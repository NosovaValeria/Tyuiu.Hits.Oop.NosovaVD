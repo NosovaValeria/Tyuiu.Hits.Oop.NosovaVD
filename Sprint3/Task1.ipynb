{
 "cells": [
  {
   "cell_type": "markdown",
   "metadata": {},
   "source": [
    "<h5 style=\"color:Red\">Задание:</h5>\n",
    "Ниже в блоке по примеру создайте базовый класс Animal и производные классы (3-4 например Dog, Cat, Bird и так далее) реализуйте структуру и объявление класса, включая свойства, геттеры и сеттеры, а также используйте перекрытия и перегрузки методов."
   ]
  },
  {
   "cell_type": "code",
   "execution_count": 5,
   "metadata": {
    "dotnet_interactive": {
     "language": "csharp"
    },
    "polyglot_notebook": {
     "kernelName": "csharp"
    },
    "vscode": {
     "languageId": "polyglot-notebook"
    }
   },
   "outputs": [
    {
     "name": "stdout",
     "output_type": "stream",
     "text": [
      "Животное зовут Мурзик. Его возраст 1 лет.\n",
      "Белка Пинки скачет по деревьям. Ей 1 лет.\n",
      "Енот Тод скачет по деревьям. Ей 2 лет.\n",
      "Енот Тод бегает по лесу.\n",
      "Енот спит\n",
      "Оленя зовут Бэмби. Его возраст 5 лет.\n",
      "\n"
     ]
    }
   ],
   "source": [
    "public class Animal \n",
    "{\n",
    "    private string name;\n",
    "    private double age;\n",
    "    public string Name\n",
    "    {\n",
    "        get { return name;}\n",
    "        set { \n",
    "            if (!value.Any(char.IsDigit))\n",
    "                name = value;\n",
    "            else \n",
    "                throw new ArgumentOutOfRangeException(\"Имя не может содержать цифры\");\n",
    "        }\n",
    "    }\n",
    "    public double Age\n",
    "    {\n",
    "        get { return age;}\n",
    "        set\n",
    "        {\n",
    "            if (value>0)\n",
    "                age = value;\n",
    "            else\n",
    "                throw new ArgumentOutOfRangeException(\"Возраст не может быть меньше или равен нулю.\");\n",
    "        }\n",
    "    }\n",
    "    public Animal(string name, double age)\n",
    "    {\n",
    "        Name = name;\n",
    "        Age = age;\n",
    "    }\n",
    "\n",
    "    public virtual void generalAnimal()\n",
    "    {\n",
    "        Console.WriteLine($\"Животное зовут {Name}. Его возраст {Age} лет.\");\n",
    "    }\n",
    "}\n",
    "public class Squirrel : Animal\n",
    "{\n",
    "    public Squirrel(string name, double age) : base(name, age)\n",
    "    {\n",
    "\n",
    "    }\n",
    "    public override void generalAnimal()\n",
    "    {\n",
    "        Console.WriteLine($\"Белка {Name} скачет по деревьям. Ей {Age} лет.\");\n",
    "    }\n",
    "}\n",
    "\n",
    "public class Raccoon : Animal\n",
    "{\n",
    "    public Raccoon(string name, double age) : base(name, age)\n",
    "    {\n",
    "\n",
    "    }\n",
    "    public override void generalAnimal()\n",
    "    {\n",
    "        Console.WriteLine($\"Енот {Name} скачет по деревьям. Ей {Age} лет.\");\n",
    "    }\n",
    "    public void Activity(string activ)\n",
    "    {\n",
    "        Console.WriteLine($\"Енот {Name} {activ} по лесу.\");\n",
    "    }\n",
    "    public void Activity(bool isActiv)\n",
    "    {\n",
    "        if (isActiv)\n",
    "        {\n",
    "            Console.WriteLine(\"Енот спит\");\n",
    "        }\n",
    "        else\n",
    "        {\n",
    "            Console.WriteLine(\"Енот бегает по лесу.\");\n",
    "        }\n",
    "    }\n",
    "}\n",
    "\n",
    "public class Deer : Animal\n",
    "{\n",
    "    public Deer(string name, double age) : base(name, age)\n",
    "    {\n",
    "    }\n",
    "    public override void generalAnimal()\n",
    "    {\n",
    "        Console.WriteLine($\"Оленя зовут {Name}. Его возраст {Age} лет.\\n\");\n",
    "    }\n",
    "}\n",
    "\n",
    "Animal myAnimal = new Animal(\"Мурзик\", 1);\n",
    "Squirrel mySquirrel = new Squirrel(\"Пинки\", 1);\n",
    "Raccoon myRaccoon = new Raccoon(\"Тод\", 2);\n",
    "Deer myDeer = new Deer(\"Бэмби\", 5);\n",
    "myAnimal.generalAnimal();\n",
    "mySquirrel.generalAnimal();\n",
    "myRaccoon.generalAnimal();\n",
    "myRaccoon.Activity(\"бегает\");\n",
    "myRaccoon.Activity(true);\n",
    "myDeer.generalAnimal();"
   ]
  }
 ],
 "metadata": {
  "kernelspec": {
   "display_name": ".NET (C#)",
   "language": "C#",
   "name": ".net-csharp"
  },
  "language_info": {
   "name": "python"
  },
  "polyglot_notebook": {
   "kernelInfo": {
    "defaultKernelName": "csharp",
    "items": [
     {
      "aliases": [],
      "name": "csharp"
     }
    ]
   }
  }
 },
 "nbformat": 4,
 "nbformat_minor": 2
}
