{
 "cells": [
  {
   "cell_type": "markdown",
   "metadata": {},
   "source": [
    "<h5 style=\"color:Red\">Задание:</h5>\n",
    "Ниже в блоке по примеру создайте базовый класс Animal и производные классы (3-4 например Dog, Cat, Bird и так далее) реализуйте структуру и объявление класса, включая свойства, геттеры и сеттеры, а также механизм полиморфизм."
   ]
  },
  {
   "cell_type": "code",
   "execution_count": 4,
   "metadata": {
    "vscode": {
     "languageId": "polyglot-notebook"
    }
   },
   "outputs": [
    {
     "name": "stdout",
     "output_type": "stream",
     "text": [
      "Животное пьет воду\n",
      "Кошка лакает воду\n",
      "Собака пьет воду\n",
      "Лиса пьет воду\n"
     ]
    }
   ],
   "source": [
    "class Animal \n",
    "{\n",
    "    public virtual void Activity()\n",
    "    {\n",
    "        Console.WriteLine(\"Животное пьет воду\");\n",
    "    }\n",
    "}\n",
    "class Cat: Animal\n",
    "{\n",
    "    public override void Activity()\n",
    "    {\n",
    "        Console.WriteLine(\"Кошка лакает воду\");\n",
    "    }\n",
    "}\n",
    "class Dog: Animal\n",
    "{\n",
    "    public override void Activity()\n",
    "    {\n",
    "        Console.WriteLine(\"Собака пьет воду\");\n",
    "    }\n",
    "}\n",
    "class Fox: Animal\n",
    "{\n",
    "    public override void Activity()\n",
    "    {\n",
    "        Console.WriteLine(\"Лиса пьет воду\");\n",
    "    }\n",
    "}\n",
    "\n",
    "List<Animal> animals = new List<Animal>\n",
    "{\n",
    "    new Animal(),\n",
    "    new Cat(),\n",
    "    new Dog(),\n",
    "    new Fox()\n",
    "};\n",
    "foreach(var animal in animals)\n",
    "{\n",
    "    animal.Activity();\n",
    "}"
   ]
  }
 ],
 "metadata": {
  "kernelspec": {
   "display_name": ".NET (C#)",
   "language": "C#",
   "name": ".net-csharp"
  },
  "language_info": {
   "name": "python"
  },
  "polyglot_notebook": {
   "kernelInfo": {
    "defaultKernelName": "csharp",
    "items": [
     {
      "aliases": [],
      "name": "csharp"
     }
    ]
   }
  }
 },
 "nbformat": 4,
 "nbformat_minor": 2
}
