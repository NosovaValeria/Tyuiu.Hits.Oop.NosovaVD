{
 "cells": [
  {
   "cell_type": "markdown",
   "metadata": {},
   "source": [
    "<h5 style=\"color:Red\">Задание:</h5>\n",
    "Ниже в блоке по примеру создайте базовый класс Animal и производные классы (3-4 например Dog, Cat, Bird и так далее) реализуйте структуру и объявление класса, включая свойства, геттеры и сеттеры, а также с пременением Generic классов."
   ]
  },
  {
   "cell_type": "code",
   "execution_count": 1,
   "metadata": {
    "vscode": {
     "languageId": "polyglot-notebook"
    }
   },
   "outputs": [
    {
     "name": "stdout",
     "output_type": "stream",
     "text": [
      "Кошка отдыхает\n",
      "Лисица отдыхает.\n"
     ]
    }
   ],
   "source": [
    "using System;\n",
    "using System.Collections.Generic;\n",
    "\n",
    "public class Animal\n",
    "{\n",
    "    public virtual void Activity()\n",
    "    {\n",
    "        Console.WriteLine(\"Живот отдыхает\");\n",
    "    }\n",
    "}\n",
    "\n",
    "public class Cat : Animal\n",
    "{\n",
    "    public override void Activity()\n",
    "    {\n",
    "        Console.WriteLine(\"Кошка отдыхает\");\n",
    "    }\n",
    "}\n",
    "\n",
    "public class Fox : Animal\n",
    "{\n",
    "    public override void Activity()\n",
    "    {\n",
    "        Console.WriteLine(\"Лисица отдыхает.\");\n",
    "    }\n",
    "}\n",
    "\n",
    "public class AnimalCollection<T> where T : Animal\n",
    "{\n",
    "    private List<T> _animals = new List<T>();\n",
    "\n",
    "    public void Add(T animal)\n",
    "    {\n",
    "        _animals.Add(animal);\n",
    "    }\n",
    "\n",
    "    public void Remove(T animal)\n",
    "    {\n",
    "        _animals.Remove(animal);\n",
    "    }\n",
    "\n",
    "    public void DisplayAnimals()\n",
    "    {\n",
    "        foreach (var animal in _animals)\n",
    "        {\n",
    "            animal.Activity();  \n",
    "        }\n",
    "    }\n",
    "}\n",
    "\n",
    "\n",
    "AnimalCollection<Animal> animals = new AnimalCollection<Animal>();\n",
    "animals.Add(new Cat());\n",
    "animals.Add(new Fox()); \n",
    "\n",
    "animals.DisplayAnimals(); \n"
   ]
  }
 ],
 "metadata": {
  "kernelspec": {
   "display_name": ".NET (C#)",
   "language": "C#",
   "name": ".net-csharp"
  },
  "language_info": {
   "name": "python"
  },
  "polyglot_notebook": {
   "kernelInfo": {
    "defaultKernelName": "csharp",
    "items": [
     {
      "aliases": [],
      "name": "csharp"
     }
    ]
   }
  }
 },
 "nbformat": 4,
 "nbformat_minor": 2
}
