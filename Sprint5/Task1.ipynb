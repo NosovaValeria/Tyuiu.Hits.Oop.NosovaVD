{
 "cells": [
  {
   "cell_type": "markdown",
   "metadata": {},
   "source": [
    "<h5 style=\"color:Red\">Задание:</h5>\n",
    "Ниже в блоке по примеру создайте базовый класс Animal и производные классы (3-4 например Dog, Cat, Bird и так далее) реализуйте при помощи  HashSet. "
   ]
  },
  {
   "cell_type": "code",
   "execution_count": 1,
   "metadata": {
    "vscode": {
     "languageId": "polyglot-notebook"
    }
   },
   "outputs": [
    {
     "name": "stdout",
     "output_type": "stream",
     "text": [
      "Есть ли дублирующее животное? False\n",
      "Животное: Кот, Имя: Пушок\n",
      "Любит поспать? True\n",
      "\n",
      "Животное: Кот, Имя: Черныш\n",
      "Любит поспать? False\n",
      "\n",
      "Животное: Крокодил, Имя: Борис\n",
      "Любит плавать: True\n",
      "\n"
     ]
    }
   ],
   "source": [
    "using System;\n",
    "using System.Collections.Generic;\n",
    "\n",
    "public class Animal \n",
    "{\n",
    "    public string Type { get; set;}\n",
    "    public string Name { get; set;}\n",
    "\n",
    "    public Animal(string type, string name)\n",
    "    {\n",
    "        Type = type;\n",
    "        Name = name;\n",
    "    }\n",
    "\n",
    "    public override bool Equals(object obj)\n",
    "    {\n",
    "        if (obj is Animal animal)\n",
    "        {\n",
    "            return Type == animal.Type && Name == animal.Name;\n",
    "        }\n",
    "        return false;\n",
    "    }\n",
    "\n",
    "    public override int GetHashCode()\n",
    "    {\n",
    "        return HashCode.Combine(Type, Name);\n",
    "    }\n",
    "\n",
    "    public virtual void DisplayInfo()\n",
    "    {\n",
    "        Console.WriteLine($\"Животное: {Type}, Имя: {Name}\");\n",
    "    }\n",
    "}\n",
    "\n",
    "public class Cat : Animal\n",
    "{\n",
    "    public bool Sleep{ get; set;}\n",
    "    public Cat( string type, string name, bool sleep): base(type, name)\n",
    "    {\n",
    "        Sleep = sleep;   \n",
    "    }\n",
    "    public override void DisplayInfo()\n",
    "    {\n",
    "        base.DisplayInfo();\n",
    "        Console.WriteLine($\"Любит поспать? {Sleep}\");\n",
    "    }\n",
    "}\n",
    "\n",
    "public class Crocodile : Animal\n",
    "{\n",
    "    public bool Swim {get; set;}\n",
    "\n",
    "    public Crocodile(string type, string name, bool swim): base(type, name)\n",
    "    {\n",
    "        Swim = swim;\n",
    "    }\n",
    "    public override void DisplayInfo()\n",
    "    {\n",
    "        base.DisplayInfo();\n",
    "        Console.WriteLine($\"Любит плавать: {Swim}\");\n",
    "    }\n",
    "}\n",
    "\n",
    "HashSet<Animal> animalSet = new HashSet<Animal>();\n",
    "\n",
    "var cat1 = new Cat(\"Кот\", \"Пушок\", true);\n",
    "var cat2 = new Cat(\"Кот\", \"Черныш\", false);\n",
    "var crocodile1 = new Crocodile(\"Крокодил\", \"Борис\", true);\n",
    "\n",
    "animalSet.Add(cat1);\n",
    "animalSet.Add(cat2);\n",
    "animalSet.Add(crocodile1);\n",
    "\n",
    "// Попробуем добавить повторяющийся объект\n",
    "var duplicateCar = new Cat(\"Кот\", \"Черныш\", false);\n",
    "bool isAdded = animalSet.Add(duplicateCar);\n",
    "\n",
    "Console.WriteLine($\"Есть ли дублирующее животное? {isAdded}\"); \n",
    "\n",
    "\n",
    "foreach (var animal in animalSet)\n",
    "{\n",
    "    animal.DisplayInfo();\n",
    "    Console.WriteLine();\n",
    "}\n"
   ]
  }
 ],
 "metadata": {
  "kernelspec": {
   "display_name": ".NET (C#)",
   "language": "C#",
   "name": ".net-csharp"
  },
  "language_info": {
   "name": "python"
  },
  "polyglot_notebook": {
   "kernelInfo": {
    "defaultKernelName": "csharp",
    "items": [
     {
      "aliases": [],
      "name": "csharp"
     }
    ]
   }
  }
 },
 "nbformat": 4,
 "nbformat_minor": 2
}
