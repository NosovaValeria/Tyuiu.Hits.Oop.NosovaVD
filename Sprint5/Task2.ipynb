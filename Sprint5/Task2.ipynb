{
 "cells": [
  {
   "cell_type": "markdown",
   "metadata": {},
   "source": [
    "<h5 style=\"color:Red\">Задание:</h5>\n",
    "Ниже в блоке по примеру создайте базовый класс Animal и производные классы (3-4 например Dog, Cat, Bird и так далее) с применением  делегатов, лямда-выражений и событий."
   ]
  },
  {
   "cell_type": "code",
   "execution_count": 7,
   "metadata": {
    "vscode": {
     "languageId": "polyglot-notebook"
    }
   },
   "outputs": [
    {
     "name": "stdout",
     "output_type": "stream",
     "text": [
      "Животное: Кот, Имя: Пушок\n",
      "Любит поспать? True\n",
      "Животное: Крокодил, Имя: Борис\n",
      "Любит плавать: True\n",
      "___Лямбда-выражения____\n",
      "Животное: Кот, Имя: Пушок\n",
      "Любит поспать? True\n",
      "___События____\n",
      "Имя изменено: Зайка\n"
     ]
    }
   ],
   "source": [
    "using System;\n",
    "using System.Collections.Generic;\n",
    "using System.Linq;\n",
    "public delegate void DisplayDelegate();\n",
    "\n",
    "public class Animal \n",
    "{\n",
    "    public string Type { get; set;}\n",
    "    public string Name { get; set;}\n",
    "\n",
    "    public Animal(string type, string name)\n",
    "    {\n",
    "        Type = type;\n",
    "        Name = name;\n",
    "    }\n",
    "    public virtual void DisplayInfo()\n",
    "    {\n",
    "        Console.WriteLine($\"Животное: {Type}, Имя: {Name}\");\n",
    "    }\n",
    "    public delegate void AnimalHandler(string message);\n",
    "    public event AnimalHandler AnimalUpdated;\n",
    "\n",
    "    public void UpdateModel(string newName)\n",
    "    {\n",
    "        Name = newName;\n",
    "        // Вызываем событие после обновления модели\n",
    "        AnimalUpdated?.Invoke($\"Имя изменено: {newName}\");\n",
    "    }\n",
    "}\n",
    "\n",
    "public class Cat : Animal\n",
    "{\n",
    "    public bool Sleep{ get; set;}\n",
    "    public Cat( string type, string name, bool sleep): base(type, name)\n",
    "    {\n",
    "        Sleep = sleep;   \n",
    "    }\n",
    "    public override void DisplayInfo()\n",
    "    {\n",
    "        base.DisplayInfo();\n",
    "        Console.WriteLine($\"Любит поспать? {Sleep}\");\n",
    "    }\n",
    "}\n",
    "\n",
    "public class Crocodile : Animal\n",
    "{\n",
    "    public bool Swim {get; set;}\n",
    "\n",
    "    public Crocodile(string type, string name, bool swim): base(type, name)\n",
    "    {\n",
    "        Swim = swim;\n",
    "    }\n",
    "    public override void DisplayInfo()\n",
    "    {\n",
    "        base.DisplayInfo();\n",
    "        Console.WriteLine($\"Любит плавать: {Swim}\");\n",
    "    }\n",
    "}\n",
    "\n",
    "Cat cat = new Cat(\"Кот\", \"Пушок\", true);\n",
    "Crocodile crocodile = new Crocodile(\"Крокодил\", \"Борис\", true);\n",
    "// Присваиваем делегату метод DisplayInfo\n",
    "DisplayDelegate displayCat = cat.DisplayInfo;\n",
    "DisplayDelegate displayCrocodile = crocodile.DisplayInfo;\n",
    "\n",
    "// Вызов методов через делегаты\n",
    "displayCat();\n",
    "displayCrocodile();\n",
    "Console.WriteLine(\"___Лямбда-выражения____\");\n",
    "List<Animal> animals = new List<Animal>\n",
    "{\n",
    "    new Cat(\"Кот\", \"Пушок\", true),\n",
    "    new Crocodile(\"Крокодил\", \"Борис\", true),\n",
    "    new Cat(\"Кот\", \"Женя\", true),\n",
    "};\n",
    "\n",
    "// Используем лямбда-выражение для фильтрации транспортных средств\n",
    "var cats = animals.OfType<Cat>().Where(c => c.Name == \"Пушок\");\n",
    "\n",
    "foreach (var cat in cats)\n",
    "{\n",
    "    cat.DisplayInfo();\n",
    "}\n",
    "Console.WriteLine(\"___События____\");\n",
    "Animal animal = new Animal(\"Кот\", \"Пушок\" );\n",
    "\n",
    "animal.AnimalUpdated += OnAnimalUpdated;\n",
    "\n",
    "animal.UpdateModel(\"Зайка\");\n",
    "\n",
    "\n",
    "static void OnAnimalUpdated(string message)\n",
    "{\n",
    "    Console.WriteLine(message);\n",
    "}\n",
    "\n"
   ]
  }
 ],
 "metadata": {
  "kernelspec": {
   "display_name": ".NET (C#)",
   "language": "C#",
   "name": ".net-csharp"
  },
  "language_info": {
   "name": "python"
  },
  "polyglot_notebook": {
   "kernelInfo": {
    "defaultKernelName": "csharp",
    "items": [
     {
      "aliases": [],
      "name": "csharp"
     }
    ]
   }
  }
 },
 "nbformat": 4,
 "nbformat_minor": 2
}
