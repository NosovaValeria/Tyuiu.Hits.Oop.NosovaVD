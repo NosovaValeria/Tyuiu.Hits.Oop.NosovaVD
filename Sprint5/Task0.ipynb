{
 "cells": [
  {
   "cell_type": "markdown",
   "metadata": {},
   "source": [
    "<h5 style=\"color:Red\">Задание:</h5>\n",
    "Ниже в блоке по примеру создайте базовый класс Animal и производные классы (3-4 например Dog, Cat, Bird и так далее) реализуйте при помощи  List<T> и  Dictionary<TKey,TValue>. "
   ]
  },
  {
   "cell_type": "code",
   "execution_count": 4,
   "metadata": {
    "vscode": {
     "languageId": "polyglot-notebook"
    }
   },
   "outputs": [
    {
     "name": "stdout",
     "output_type": "stream",
     "text": [
      "Вид: Кот. Возраст: 5 лет.\n",
      "Его зовут Пушок.\n",
      "\n",
      "Вид: Собака. Возраст: 2 лет.\n",
      "Он любит лаять.\n",
      "\n",
      "_________\n",
      "Найденое животное:\n",
      "Вид: Кот. Возраст: 5 лет.\n",
      "Его зовут Пушок.\n"
     ]
    }
   ],
   "source": [
    "using System;\n",
    "using System.Collections.Generic;\n",
    "\n",
    "public class Animal \n",
    "{\n",
    "    public string Type { get; set;}\n",
    "    public double Age { get; set;}\n",
    "\n",
    "    public Animal(string type, double age)\n",
    "    {\n",
    "        Type = type;\n",
    "        Age = age;\n",
    "    }\n",
    "\n",
    "    public virtual void generalAnimal()\n",
    "    {\n",
    "        Console.WriteLine($\"Вид: {Type}. Возраст: {Age} лет.\");\n",
    "    }\n",
    "}\n",
    "public class Cat : Animal\n",
    "{\n",
    "    public string Name{ get; set;}\n",
    "    \n",
    "    public Cat(string type, double age, string name) : base(type, age)\n",
    "    {\n",
    "        Name = name;\n",
    "    }\n",
    "    public override void generalAnimal()\n",
    "    {\n",
    "        base.generalAnimal();\n",
    "        Console.WriteLine($\"Его зовут {Name}.\");\n",
    "    }\n",
    "}\n",
    "\n",
    "public class Dog : Animal\n",
    "{\n",
    "    public string Voice{ get; set;}\n",
    "\n",
    "    public Dog(string type, double age, string voice) : base(type, age)\n",
    "    {\n",
    "        Voice = voice;\n",
    "    }\n",
    "    public override void  generalAnimal()\n",
    "    {\n",
    "        base.generalAnimal();\n",
    "        Console.WriteLine($\"Он любит {Voice}.\");\n",
    "    }\n",
    "}\n",
    "\n",
    "List<Animal> animalList = new List<Animal>();\n",
    "animalList.Add(new Cat(\"Кот\", 5, \"Пушок\"));\n",
    "animalList.Add(new Dog(\"Собака\", 2, \"лаять\"));\n",
    "foreach (var animal in animalList)\n",
    "{\n",
    "    animal.generalAnimal();\n",
    "    Console.WriteLine();\n",
    "}\n",
    "\n",
    "Console.WriteLine(\"_________\");\n",
    "Dictionary<string, Animal> AnimalDictionary = new Dictionary<string, Animal>();\n",
    "\n",
    "AnimalDictionary.Add(\"Первый\", new Cat(\"Кот\", 5, \"Пушок\"));\n",
    "AnimalDictionary.Add(\"Второй\", new Dog(\"Собака\", 6, \"лаять\"));\n",
    "\n",
    "if (AnimalDictionary.TryGetValue(\"Первый\", out Animal foundAnimal))\n",
    "{\n",
    "    Console.WriteLine(\"Найденое животное:\");\n",
    "    foundAnimal.generalAnimal();\n",
    "}\n",
    "else\n",
    "{\n",
    "    Console.WriteLine(\"Животное не найдено\");\n",
    "}"
   ]
  }
 ],
 "metadata": {
  "kernelspec": {
   "display_name": ".NET (C#)",
   "language": "C#",
   "name": ".net-csharp"
  },
  "language_info": {
   "name": "python",
   "version": "3.9.13"
  },
  "polyglot_notebook": {
   "kernelInfo": {
    "defaultKernelName": "csharp",
    "items": [
     {
      "aliases": [],
      "name": "csharp"
     }
    ]
   }
  }
 },
 "nbformat": 4,
 "nbformat_minor": 2
}
