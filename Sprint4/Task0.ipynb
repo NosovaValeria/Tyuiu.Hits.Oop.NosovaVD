{
 "cells": [
  {
   "cell_type": "markdown",
   "metadata": {},
   "source": [
    "<h5 style=\"color:Red\">Задание:</h5>\n",
    "Ниже в блоке по примеру создайте базовый класс Animal и производные классы (3-4 например Dog, Cat, Bird и так далее) реализуйте структуру и объявление класса, включая свойства, геттеры и сеттеры, а также наследование с применением интерфейсов."
   ]
  },
  {
   "cell_type": "code",
   "execution_count": 10,
   "metadata": {
    "dotnet_interactive": {
     "language": "csharp"
    },
    "polyglot_notebook": {
     "kernelName": "csharp"
    },
    "vscode": {
     "languageId": "polyglot-notebook"
    }
   },
   "outputs": [
    {
     "name": "stdout",
     "output_type": "stream",
     "text": [
      "Кот Мурзик кушает.\n",
      "Мурзик кушает. Ему 2 лет.\n",
      "Кот подает голос.\n",
      "Кот мяукает.\n",
      "Кот спит 1 час.\n",
      "Текущее количество часов сна: 1\n",
      "\n",
      "Собака Дружок кушает.\n",
      "Дружок кушает. Окрас: Черный\n",
      "Собака подает голос.\n",
      "Собака лает.\n",
      "Собака спит 3 час.\n",
      "Текущее количество часов сна: 3\n"
     ]
    }
   ],
   "source": [
    "public interface IAnimal\n",
    "{\n",
    "    void voiceAnimal();\n",
    "    void eatAnimal();\n",
    "    int sleppAnimal();\n",
    "}\n",
    "public class Animal: IAnimal\n",
    "{\n",
    "    public string Type{get;set;}\n",
    "    public string Name {get;set;}\n",
    "    protected int slepp;\n",
    "\n",
    "    public virtual void voiceAnimal()\n",
    "    {\n",
    "        Console.WriteLine($\"{Type} подает голос.\");\n",
    "    }\n",
    "    public virtual void eatAnimal()\n",
    "    {\n",
    "        Console.WriteLine($\"{Type} {Name} кушает.\");\n",
    "    }\n",
    "    public virtual int sleppAnimal()\n",
    "    {\n",
    "        return slepp;\n",
    "    }\n",
    "}\n",
    "public class Cat : Animal\n",
    "{\n",
    "    public int Age {get;set;}\n",
    "   \n",
    "    public override void eatAnimal()\n",
    "    {\n",
    "        base.eatAnimal();\n",
    "        Console.WriteLine($\"{Name} кушает. Ему {Age} лет.\");\n",
    "    }\n",
    "    public override void voiceAnimal()\n",
    "    {\n",
    "        base.voiceAnimal();\n",
    "        Console.WriteLine($\"{Type} мяукает.\");\n",
    "    }\n",
    "    public void Sleeping(int hour)\n",
    "    {\n",
    "        slepp += hour;\n",
    "        Console.WriteLine($\"{Type} спит {slepp} час.\");\n",
    "    }\n",
    "}\n",
    "public class Dog : Animal\n",
    "{\n",
    "    public string Color {get;set;}\n",
    "   \n",
    "    public override void eatAnimal()\n",
    "    {\n",
    "        base.eatAnimal();\n",
    "        Console.WriteLine($\"{Name} кушает. Окрас: {Color}\");\n",
    "    }\n",
    "    public override void voiceAnimal()\n",
    "    {\n",
    "        base.voiceAnimal();\n",
    "        Console.WriteLine($\"{Type} лает.\");\n",
    "    }\n",
    "    public void Sleeping(int hour)\n",
    "    {\n",
    "        slepp += hour;\n",
    "        Console.WriteLine($\"{Type} спит {slepp} час.\");\n",
    "    }\n",
    "}\n",
    "\n",
    "IAnimal myCat = new Cat{Type = \"Кот\", Name = \"Мурзик\", Age = 2};\n",
    "myCat.eatAnimal();\n",
    "myCat.voiceAnimal();\n",
    "((Cat)myCat).Sleeping(1);\n",
    "Console.WriteLine($\"Текущее количество часов сна: {myCat.sleppAnimal()}\\n\");\n",
    "\n",
    "IAnimal myDog = new Dog{Type = \"Собака\", Name = \"Дружок\", Color = \"Черный\"};\n",
    "myDog.eatAnimal();\n",
    "myDog.voiceAnimal();\n",
    "((Dog)myDog).Sleeping(3);\n",
    "Console.WriteLine($\"Текущее количество часов сна: {myDog.sleppAnimal()}\");"
   ]
  }
 ],
 "metadata": {
  "kernelspec": {
   "display_name": ".NET (C#)",
   "language": "C#",
   "name": ".net-csharp"
  },
  "language_info": {
   "name": "python"
  },
  "polyglot_notebook": {
   "kernelInfo": {
    "defaultKernelName": "csharp",
    "items": [
     {
      "aliases": [],
      "name": "csharp"
     }
    ]
   }
  }
 },
 "nbformat": 4,
 "nbformat_minor": 2
}
