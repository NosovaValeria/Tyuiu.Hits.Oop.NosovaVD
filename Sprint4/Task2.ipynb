{
 "cells": [
  {
   "cell_type": "markdown",
   "metadata": {},
   "source": [
    "<h5 style=\"color:Red\">Задание:</h5>\n",
    "Ниже в блоке по примеру создайте базовый класс Animal и производные классы (3-4 например Dog, Cat, Bird и так далее) реализуйте структуру и объявление класса, включая свойства, геттеры и сеттеры, а также реализовать управление зависимостями."
   ]
  },
  {
   "cell_type": "code",
   "execution_count": 1,
   "metadata": {
    "dotnet_interactive": {
     "language": "csharp"
    },
    "polyglot_notebook": {
     "kernelName": "csharp"
    },
    "vscode": {
     "languageId": "polyglot-notebook"
    }
   },
   "outputs": [
    {
     "name": "stdout",
     "output_type": "stream",
     "text": [
      "Кошка мяукает.\n",
      "Это животное спит 2 час.\n",
      "Кот играет с мышкой.\n",
      "Собака лает.\n",
      "Это животное спит 1 час.\n",
      "Собака бегает по двору.\n"
     ]
    }
   ],
   "source": [
    "public interface IAnimal\n",
    "{\n",
    "    void voiceAnimal();\n",
    "    void activityAnimal();\n",
    "    int sleppAnimal();\n",
    "}\n",
    "\n",
    "public class Cat : IAnimal\n",
    "{\n",
    "    public void voiceAnimal()\n",
    "    {\n",
    "        Console.WriteLine($\"Кошка мяукает.\");\n",
    "    }\n",
    "    public void activityAnimal()\n",
    "    {\n",
    "        Console.WriteLine($\"Кот играет с мышкой.\");\n",
    "    }\n",
    "    public int sleppAnimal()\n",
    "    {\n",
    "        return 2;\n",
    "    }\n",
    "}\n",
    "public class Dog : IAnimal\n",
    "{\n",
    "    public void activityAnimal()\n",
    "    {\n",
    "        Console.WriteLine($\"Собака бегает по двору.\");\n",
    "    }\n",
    "    public void voiceAnimal()\n",
    "    {\n",
    "        Console.WriteLine($\"Собака лает.\");\n",
    "    }\n",
    "    public int sleppAnimal()\n",
    "    {\n",
    "        return 1;\n",
    "    }\n",
    "}\n",
    "\n",
    "public class AnimalInfo\n",
    "{\n",
    "    private readonly IAnimal _animal;\n",
    "\n",
    "    public AnimalInfo(IAnimal animal)\n",
    "    {\n",
    "        _animal = animal; \n",
    "    }\n",
    "\n",
    "    public void UseAnimal()\n",
    "    {\n",
    "        _animal.voiceAnimal(); \n",
    "        Console.WriteLine($\"Это животное спит {_animal.sleppAnimal()} час.\");\n",
    "        _animal.activityAnimal(); \n",
    "    }\n",
    "}\n",
    "\n",
    "IAnimal myCat = new Cat();\n",
    "AnimalInfo catInfo = new AnimalInfo(myCat);\n",
    "catInfo.UseAnimal();\n",
    "\n",
    "IAnimal myDog = new Dog();\n",
    "AnimalInfo dogInfo = new AnimalInfo(myDog);\n",
    "dogInfo.UseAnimal();"
   ]
  }
 ],
 "metadata": {
  "kernelspec": {
   "display_name": ".NET (C#)",
   "language": "C#",
   "name": ".net-csharp"
  },
  "language_info": {
   "name": "python"
  },
  "polyglot_notebook": {
   "kernelInfo": {
    "defaultKernelName": "csharp",
    "items": [
     {
      "aliases": [],
      "name": "csharp"
     }
    ]
   }
  }
 },
 "nbformat": 4,
 "nbformat_minor": 2
}
