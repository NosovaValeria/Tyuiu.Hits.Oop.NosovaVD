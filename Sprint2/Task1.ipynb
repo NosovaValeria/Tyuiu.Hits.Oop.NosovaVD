{
 "cells": [
  {
   "cell_type": "markdown",
   "metadata": {},
   "source": [
    "<h5 style=\"color:Red\">Задание:</h5>\n",
    "Ниже в блоке по примеру создайте базовый класс Animal и производные классы (3-4 например Dog, Cat, Bird и так далее) реализуйте структуру и объявление класса, включая свойства, геттеры и сеттеры, а также сложное наследование."
   ]
  },
  {
   "cell_type": "code",
   "execution_count": 2,
   "metadata": {
    "vscode": {
     "languageId": "polyglot-notebook"
    }
   },
   "outputs": [
    {
     "name": "stdout",
     "output_type": "stream",
     "text": [
      "Животное зовут Черныш. Вид: Кот.\n",
      "Кот тяжеленький, он весит 5.6кг.\n",
      "Животное зовут Дружок. Вид: Собака.\n",
      "Окрас: черный.\n",
      "Животное зовут Тод. Вид: Лис.\n",
      "Окрас: рыжий.\n",
      "Живет в лесу: True.\n"
     ]
    }
   ],
   "source": [
    "public class Animal \n",
    "{\n",
    "    public string Name { get; set;}\n",
    "    public string View { get; set;}\n",
    "\n",
    "    public Animal(string name, string view)\n",
    "    {\n",
    "        Name = name;\n",
    "        View = view;\n",
    "    }\n",
    "\n",
    "    public virtual void generalAnimal()\n",
    "    {\n",
    "        Console.WriteLine($\"Животное зовут {Name}. Вид: {View}.\");\n",
    "    }\n",
    "}\n",
    "public class Cat : Animal\n",
    "{\n",
    "    public string Weight{ get; set;}\n",
    "    \n",
    "    public Cat(string name, string view, string weight) : base(name, view)\n",
    "    {\n",
    "        Weight = weight;\n",
    "    }\n",
    "    public override void generalAnimal()\n",
    "    {\n",
    "        base.generalAnimal();\n",
    "        Console.WriteLine($\"{View} тяжеленький, он весит {Weight}кг.\");\n",
    "    }\n",
    "}\n",
    "\n",
    "public class Dog : Animal\n",
    "{\n",
    "    public string Color{ get; set;}\n",
    "\n",
    "    public Dog(string name, string view, string color) : base(name, view)\n",
    "    {\n",
    "        Color = color;\n",
    "    }\n",
    "    public override void  generalAnimal()\n",
    "    {\n",
    "        base.generalAnimal();\n",
    "        Console.WriteLine($\"Окрас: {Color}.\");\n",
    "    }\n",
    "}\n",
    "\n",
    "public class Fox : Dog\n",
    "{\n",
    "    public bool Residency { get; set;}\n",
    "\n",
    "    public Fox(string name, string view, string color, bool residency) : base(name, view, color)\n",
    "    {\n",
    "        Residency = residency;\n",
    "    }\n",
    "    public override void generalAnimal()\n",
    "    {\n",
    "        base.generalAnimal();\n",
    "        Console.WriteLine($\"Живет в лесу: {Residency}.\");\n",
    "    }\n",
    "}\n",
    "\n",
    "Cat myCat = new Cat(\"Черныш\", \"Кот\", \"5.6\");\n",
    "Dog myDog = new Dog(\"Дружок\", \"Собака\", \"черный\");\n",
    "Fox myFox = new Fox(\"Тод\", \"Лис\", \"рыжий\", true);\n",
    "myCat.generalAnimal();\n",
    "myDog.generalAnimal();\n",
    "myFox.generalAnimal();\n",
    " "
   ]
  }
 ],
 "metadata": {
  "kernelspec": {
   "display_name": ".NET (C#)",
   "language": "C#",
   "name": ".net-csharp"
  },
  "language_info": {
   "name": "python"
  },
  "polyglot_notebook": {
   "kernelInfo": {
    "defaultKernelName": "csharp",
    "items": [
     {
      "aliases": [],
      "name": "csharp"
     }
    ]
   }
  }
 },
 "nbformat": 4,
 "nbformat_minor": 2
}
