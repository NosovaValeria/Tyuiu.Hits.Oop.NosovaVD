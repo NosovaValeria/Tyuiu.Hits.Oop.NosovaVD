{
 "cells": [
  {
   "cell_type": "markdown",
   "metadata": {},
   "source": [
    "<h5 style=\"color:Red\">Задание:</h5>\n",
    "Ниже в блоке по примеру создайте базовый класс Animal и производные классы (3-4 например Dog, Cat, Bird и так далее) реализуйте структуру и объявление класса, включая свойства, геттеры и сеттеры, а также простое наследование."
   ]
  },
  {
   "cell_type": "code",
   "execution_count": 7,
   "metadata": {
    "vscode": {
     "languageId": "polyglot-notebook"
    }
   },
   "outputs": [
    {
     "name": "stdout",
     "output_type": "stream",
     "text": [
      "Животное зовут Черныш. Возраст: 5 лет.\n",
      "Кот тяжеленький, он весит 5.6кг.\n",
      "Животное зовут Дружок. Возраст: 6 лет.\n",
      "Окрас собаки: черный.\n",
      "Животное зовут Тод. Возраст: 3 лет.\n",
      "Лис живет в лесу.\n"
     ]
    }
   ],
   "source": [
    "public class Animal \n",
    "{\n",
    "    public string Name { get; set;}\n",
    "    public double Age { get; set;}\n",
    "\n",
    "    public Animal(string name, double age)\n",
    "    {\n",
    "        Name = name;\n",
    "        Age = age;\n",
    "    }\n",
    "\n",
    "    public virtual void generalAnimal()\n",
    "    {\n",
    "        Console.WriteLine($\"Животное зовут {Name}. Возраст: {Age} лет.\");\n",
    "    }\n",
    "}\n",
    "public class Cat : Animal\n",
    "{\n",
    "    public string Weight{ get; set;}\n",
    "    \n",
    "    public Cat(string name, double age, string weight) : base(name, age)\n",
    "    {\n",
    "        Weight = weight;\n",
    "    }\n",
    "    public override void generalAnimal()\n",
    "    {\n",
    "        base.generalAnimal();\n",
    "        Console.WriteLine($\"Кот тяжеленький, он весит {Weight}кг.\");\n",
    "    }\n",
    "}\n",
    "\n",
    "public class Dog : Animal\n",
    "{\n",
    "    public string Color{ get; set;}\n",
    "\n",
    "    public Dog(string name, double age, string color) : base(name, age)\n",
    "    {\n",
    "        Color = color;\n",
    "    }\n",
    "    public override void  generalAnimal()\n",
    "    {\n",
    "        base.generalAnimal();\n",
    "        Console.WriteLine($\"Окрас собаки: {Color}.\");\n",
    "    }\n",
    "}\n",
    "\n",
    "public class Fox : Animal\n",
    "{\n",
    "    public string Residency { get; set;}\n",
    "\n",
    "    public Fox(string name, double age, string residency) : base(name, age)\n",
    "    {\n",
    "        Residency = residency;\n",
    "    }\n",
    "    public override void generalAnimal()\n",
    "    {\n",
    "        base.generalAnimal();\n",
    "        Console.WriteLine($\"Лис живет в {Residency}.\");\n",
    "    }\n",
    "}\n",
    "\n",
    "Cat myCat = new Cat(\"Черныш\", 5, \"5.6\");\n",
    "Dog myDog = new Dog(\"Дружок\", 6, \"черный\");\n",
    "Fox myFox = new Fox(\"Тод\", 3, \"лесу\");\n",
    "myCat.generalAnimal();\n",
    "myDog.generalAnimal();\n",
    "myFox.generalAnimal();\n",
    " "
   ]
  }
 ],
 "metadata": {
  "kernelspec": {
   "display_name": ".NET (C#)",
   "language": "C#",
   "name": ".net-csharp"
  },
  "language_info": {
   "name": "python"
  },
  "polyglot_notebook": {
   "kernelInfo": {
    "defaultKernelName": "csharp",
    "items": [
     {
      "aliases": [],
      "name": "csharp"
     }
    ]
   }
  }
 },
 "nbformat": 4,
 "nbformat_minor": 2
}
