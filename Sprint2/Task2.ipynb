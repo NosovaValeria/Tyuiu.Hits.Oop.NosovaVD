{
 "cells": [
  {
   "cell_type": "markdown",
   "metadata": {},
   "source": [
    "<h5 style=\"color:Red\">Задание:</h5>\n",
    "Ниже в блоке по примеру создайте базовый класс Animal и производные классы (3-4 например Dog, Cat, Bird и так далее) реализуйте структуру и объявление класса, включая свойства, геттеры и сеттеры, а также множественное наследование."
   ]
  },
  {
   "cell_type": "code",
   "execution_count": 2,
   "metadata": {
    "dotnet_interactive": {
     "language": "csharp"
    },
    "polyglot_notebook": {
     "kernelName": "csharp"
    },
    "vscode": {
     "languageId": "polyglot-notebook"
    }
   },
   "outputs": [
    {
     "name": "stdout",
     "output_type": "stream",
     "text": [
      "Вид: Кот, возраст: 5 лет, имя: Пушок.\n",
      "Вид: Крокодил, возраст: 10 лет, возможность плавать: True.\n",
      "Вид: Лис, возраст: 6 лет, живет в лесу: True.\n"
     ]
    }
   ],
   "source": [
    "public interface IAnimal\n",
    "{\n",
    "    string View { get; set;}\n",
    "    int Age {get; set;}\n",
    "    void DisplayInfo();\n",
    "}\n",
    "public interface ISwimming\n",
    "{\n",
    "    bool Swim{get;set;}\n",
    "}\n",
    "public class Cat : IAnimal\n",
    "{\n",
    "    public string View { get; set;}\n",
    "    public int Age {get; set;}\n",
    "    public string Name { get; set;}\n",
    "    public Cat( string view, int age, string name)\n",
    "    {\n",
    "        View = view;\n",
    "        Age = age;\n",
    "        Name = name;   \n",
    "    }\n",
    "    public void DisplayInfo()\n",
    "    {\n",
    "        Console.WriteLine($\"Вид: {View}, возраст: {Age} лет, имя: {Name}.\");\n",
    "    }\n",
    "}\n",
    "\n",
    "public class Crocodile : IAnimal, ISwimming\n",
    "{\n",
    "    public string View { get; set;}\n",
    "    public int Age {get; set;}\n",
    "    public bool Swim {get; set;}\n",
    "\n",
    "    public Crocodile(string view, int age, bool swim)\n",
    "    {\n",
    "        View = view;\n",
    "        Age = age;\n",
    "        Swim = swim;\n",
    "    }\n",
    "    public void DisplayInfo()\n",
    "    {\n",
    "        Console.WriteLine($\"Вид: {View}, возраст: {Age} лет, возможность плавать: {Swim}.\");\n",
    "    }\n",
    "}\n",
    "\n",
    "public class Fox : IAnimal\n",
    "{\n",
    "    public string View { get; set;}\n",
    "    public int Age {get; set;}\n",
    "    public bool Residency { get; set;}\n",
    "    public Fox( string view, int age, bool residency)\n",
    "    {\n",
    "        View = view;\n",
    "        Age = age;\n",
    "        Residency = residency;  \n",
    "    }\n",
    "    public void DisplayInfo()\n",
    "    {\n",
    "        Console.WriteLine($\"Вид: {View}, возраст: {Age} лет, живет в лесу: {Residency}.\");\n",
    "    }\n",
    "}\n",
    "\n",
    "Cat myCat = new Cat(\"Кот\", 5, \"Пушок\");\n",
    "Crocodile myCroc = new Crocodile(\"Крокодил\", 10, true); \n",
    "Fox myFox = new Fox(\"Лис\", 6, true);\n",
    "myCat.DisplayInfo();\n",
    "myCroc.DisplayInfo();\n",
    "myFox.DisplayInfo();\n",
    " "
   ]
  }
 ],
 "metadata": {
  "kernelspec": {
   "display_name": ".NET (C#)",
   "language": "C#",
   "name": ".net-csharp"
  },
  "language_info": {
   "name": "python",
   "version": "3.9.13"
  },
  "polyglot_notebook": {
   "kernelInfo": {
    "defaultKernelName": "csharp",
    "items": [
     {
      "aliases": [],
      "name": "csharp"
     }
    ]
   }
  }
 },
 "nbformat": 4,
 "nbformat_minor": 2
}
