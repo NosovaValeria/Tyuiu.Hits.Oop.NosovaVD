{
 "cells": [
  {
   "cell_type": "markdown",
   "metadata": {},
   "source": [
    "Ниже в блоке (Code) решите задачу\n",
    "\n",
    "Дан целочисленный массив numbers со следующими элементами { 5, 8, 1, 3, 9, 6, 7, 2 }, нужно выполнить следующие операции:\n",
    "1.\tНайти минимальное и максимальное значения в массиве.\n",
    "2.\tНайти сумму всех элементов массива.\n",
    "3.\tНайти среднее арифметическое всех элементов массива.\n",
    "4.\tОтсортировать массив в порядке возрастания.\n",
    "5.\tПроверить, содержит ли массив определенное число."
   ]
  },
  {
   "cell_type": "code",
   "execution_count": 10,
   "metadata": {
    "dotnet_interactive": {
     "language": "csharp"
    },
    "polyglot_notebook": {
     "kernelName": "csharp"
    },
    "vscode": {
     "languageId": "polyglot-notebook"
    }
   },
   "outputs": [
    {
     "name": "stdout",
     "output_type": "stream",
     "text": [
      "Минимальное значение в массиве: 1\n",
      "Максимальное значение: 9\r\n"
     ]
    }
   ],
   "source": [
    "int[] massiv = {5, 8, 1, 3, 9, 6, 7, 2};\n",
    "\n",
    "int max = 0;\n",
    "int min = 10;\n",
    "for (int i = 0; i < massiv.Length; i++)\n",
    "{\n",
    "    if(massiv[i] > max)\n",
    "    {\n",
    "        max = massiv[i];\n",
    "    }\n",
    "    if(massiv[i] < min)\n",
    "    {\n",
    "        min = massiv[i];\n",
    "    }\n",
    "}\n",
    "Console.WriteLine($\"Минимальное значение в массиве: {min}\\nМаксимальное значение: {max}\");"
   ]
  },
  {
   "cell_type": "code",
   "execution_count": 11,
   "metadata": {
    "dotnet_interactive": {
     "language": "csharp"
    },
    "polyglot_notebook": {
     "kernelName": "csharp"
    },
    "vscode": {
     "languageId": "polyglot-notebook"
    }
   },
   "outputs": [
    {
     "name": "stdout",
     "output_type": "stream",
     "text": [
      "Сумма элементов в массиве: 41\r\n"
     ]
    }
   ],
   "source": [
    "int summ = 0;\n",
    "for(int i = 0; i < massiv.Length; i++)\n",
    "{\n",
    "    summ +=massiv[i];\n",
    "}\n",
    "Console.WriteLine($\"Сумма элементов в массиве: {summ}\");"
   ]
  },
  {
   "cell_type": "code",
   "execution_count": 16,
   "metadata": {
    "dotnet_interactive": {
     "language": "csharp"
    },
    "polyglot_notebook": {
     "kernelName": "csharp"
    },
    "vscode": {
     "languageId": "polyglot-notebook"
    }
   },
   "outputs": [
    {
     "name": "stdout",
     "output_type": "stream",
     "text": [
      "Cреднее арифметическое всех элементов массива: 5,125\r\n"
     ]
    }
   ],
   "source": [
    "double srednee = 0;\n",
    "srednee = (double)summ / massiv.Length;\n",
    "Console.WriteLine($\"Cреднее арифметическое всех элементов массива: {srednee}\");"
   ]
  },
  {
   "cell_type": "code",
   "execution_count": 17,
   "metadata": {
    "dotnet_interactive": {
     "language": "csharp"
    },
    "polyglot_notebook": {
     "kernelName": "csharp"
    },
    "vscode": {
     "languageId": "polyglot-notebook"
    }
   },
   "outputs": [
    {
     "name": "stdout",
     "output_type": "stream",
     "text": [
      "Сортировка в порядке возрастания:\n",
      "1 2 3 5 6 7 8 9 "
     ]
    }
   ],
   "source": [
    "int[] sort = {5, 8, 1, 3, 9, 6, 7, 2};\n",
    "for(int i = 1; i < sort.Length; i++)\n",
    "{\n",
    "    for(int j = 0; j < sort.Length; j++)\n",
    "    {\n",
    "        if(sort[j] > sort[i])\n",
    "        {\n",
    "            int t = sort[i];\n",
    "            sort[i] = sort[j];\n",
    "            sort[j] = t;\n",
    "        }\n",
    "    }\n",
    "}\n",
    "Console.WriteLine(\"Сортировка в порядке возрастания:\");\n",
    "for(int i = 0; i < sort.Length; i++)\n",
    "{\n",
    "    Console.Write($\"{sort[i]} \");\n",
    "}"
   ]
  },
  {
   "cell_type": "code",
   "execution_count": 20,
   "metadata": {
    "dotnet_interactive": {
     "language": "csharp"
    },
    "polyglot_notebook": {
     "kernelName": "csharp"
    },
    "vscode": {
     "languageId": "polyglot-notebook"
    }
   },
   "outputs": [
    {
     "name": "stdout",
     "output_type": "stream",
     "text": [
      "Массив содержит число 3\r\n"
     ]
    }
   ],
   "source": [
    "int a = 3;\n",
    "bool result = false;\n",
    "for(int i = 0; i < massiv.Length; i++)\n",
    "{\n",
    "    if(massiv[i] == a)\n",
    "    {\n",
    "        result = true;\n",
    "    }\n",
    "}\n",
    "if(result == true)\n",
    "{\n",
    "    Console.WriteLine($\"Массив содержит число {a}\");\n",
    "}\n",
    "else\n",
    "{\n",
    "    Console.WriteLine($\"Массив не содержит число {a}\");\n",
    "}"
   ]
  },
  {
   "cell_type": "code",
   "execution_count": 21,
   "metadata": {
    "dotnet_interactive": {
     "language": "csharp"
    },
    "polyglot_notebook": {
     "kernelName": "csharp"
    },
    "vscode": {
     "languageId": "polyglot-notebook"
    }
   },
   "outputs": [],
   "source": []
  }
 ],
 "metadata": {
  "kernelspec": {
   "display_name": ".NET (C#)",
   "language": "C#",
   "name": ".net-csharp"
  },
  "language_info": {
   "name": "python"
  },
  "polyglot_notebook": {
   "kernelInfo": {
    "defaultKernelName": "csharp",
    "items": [
     {
      "aliases": [],
      "name": "csharp"
     }
    ]
   }
  }
 },
 "nbformat": 4,
 "nbformat_minor": 2
}
