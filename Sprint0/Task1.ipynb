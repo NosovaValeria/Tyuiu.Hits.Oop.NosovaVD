{
 "cells": [
  {
   "cell_type": "markdown",
   "metadata": {},
   "source": [
    "<h5 style=\"color:Red\">Задание:</h5>\n",
    "\n",
    "----\n",
    "Ниже в блоке по примеру создайте класс Animal"
   ]
  },
  {
   "cell_type": "code",
   "execution_count": null,
   "metadata": {
    "dotnet_interactive": {
     "language": "csharp"
    },
    "polyglot_notebook": {
     "kernelName": "csharp"
    },
    "vscode": {
     "languageId": "polyglot-notebook"
    }
   },
   "outputs": [],
   "source": [
    "class Animal\n",
    "{\n",
    "\n",
    "}\n",
    "Animal animal = new Animal();"
   ]
  },
  {
   "cell_type": "markdown",
   "metadata": {},
   "source": [
    "<h5 style=\"color:Red\">Задание:</h5>\n",
    "Ниже в блоке по примеру создайте класс Animal и реализуйте инкапсуляцию "
   ]
  },
  {
   "cell_type": "code",
   "execution_count": 9,
   "metadata": {
    "dotnet_interactive": {
     "language": "csharp"
    },
    "polyglot_notebook": {
     "kernelName": "csharp"
    },
    "vscode": {
     "languageId": "polyglot-notebook"
    }
   },
   "outputs": [
    {
     "name": "stdout",
     "output_type": "stream",
     "text": [
      "Побежать вперед\n",
      "5 лет\n"
     ]
    }
   ],
   "source": [
    "class Animal\n",
    "{\n",
    "    private string  age;\n",
    "    public string Age\n",
    "    {\n",
    "        get {return age;}\n",
    "        set {age = value;}\n",
    "    }\n",
    "    public void RunForward()\n",
    "    {\n",
    "        Console.WriteLine(\"Побежать вперед\");\n",
    "    }\n",
    "}\n",
    "Animal Fox = new Animal();\n",
    "Fox.Age = \"5 лет\";\n",
    "Fox.RunForward();\n",
    "Console.WriteLine(Fox.Age);"
   ]
  },
  {
   "cell_type": "markdown",
   "metadata": {},
   "source": [
    "<h5 style=\"color:Red\">Задание:</h5>\n",
    "Ниже в блоке по примеру создайте класс Animal и реализуйте наследование "
   ]
  },
  {
   "cell_type": "code",
   "execution_count": 15,
   "metadata": {
    "dotnet_interactive": {
     "language": "csharp"
    },
    "polyglot_notebook": {
     "kernelName": "csharp"
    },
    "vscode": {
     "languageId": "polyglot-notebook"
    }
   },
   "outputs": [
    {
     "name": "stdout",
     "output_type": "stream",
     "text": [
      "Пушинка\n",
      "Спрятаться в норку\n",
      "Мурзик\n",
      "Спрятаться в норку\n"
     ]
    }
   ],
   "source": [
    "class Animal\n",
    "{\n",
    "    private string name;\n",
    "    public string Name\n",
    "    {\n",
    "        get {return name;}\n",
    "        set {name = value;}\n",
    "    }\n",
    "    public void Activity()\n",
    "    {\n",
    "        Console.WriteLine(\"Спрятаться в норку\");\n",
    "    }\n",
    "}\n",
    "class Cat : Animal\n",
    "{\n",
    "\n",
    "}\n",
    "Animal myAnimal = new Animal();\n",
    "Cat cat = new Cat();\n",
    "\n",
    "cat.Name = \"Пушинка\";\n",
    "Console.WriteLine(cat.Name);\n",
    "cat.Activity();\n",
    "\n",
    "myAnimal.Name = \"Мурзик\";\n",
    "Console.WriteLine(myAnimal.Name);\n",
    "myAnimal.Activity();"
   ]
  },
  {
   "cell_type": "markdown",
   "metadata": {},
   "source": [
    "<h5 style=\"color:Red\">Задание:</h5>\n",
    "Ниже в блоке по примеру создайте класс Animal и реализуйте полиморфизм "
   ]
  },
  {
   "cell_type": "code",
   "execution_count": 17,
   "metadata": {
    "dotnet_interactive": {
     "language": "csharp"
    },
    "polyglot_notebook": {
     "kernelName": "csharp"
    },
    "vscode": {
     "languageId": "polyglot-notebook"
    }
   },
   "outputs": [
    {
     "name": "stdout",
     "output_type": "stream",
     "text": [
      "Животное охотится\n",
      "Кошка охотится\n"
     ]
    }
   ],
   "source": [
    "class Animal \n",
    "{\n",
    "    private string name;\n",
    "    public string Name\n",
    "    {\n",
    "        get { return name;}\n",
    "        set { name = value;}\n",
    "    }\n",
    "    public virtual void Activity()\n",
    "    {\n",
    "        Console.WriteLine(\"Животное охотится\");\n",
    "    }\n",
    "}\n",
    "class Cat: Animal\n",
    "{\n",
    "    public override void Activity()\n",
    "    {\n",
    "        Console.WriteLine(\"Кошка охотится\");\n",
    "    }\n",
    "}\n",
    "Animal myAnimal = new Animal();\n",
    "Cat myCat = new Cat();\n",
    "myAnimal.Activity();\n",
    "myCat.Activity();"
   ]
  },
  {
   "cell_type": "markdown",
   "metadata": {},
   "source": [
    "<h5 style=\"color:Red\">Задание:</h5>\n",
    "Ниже в блоке по примеру создайте класс Animal и реализуйте абстракцию "
   ]
  },
  {
   "cell_type": "code",
   "execution_count": 18,
   "metadata": {
    "dotnet_interactive": {
     "language": "csharp"
    },
    "polyglot_notebook": {
     "kernelName": "csharp"
    },
    "vscode": {
     "languageId": "polyglot-notebook"
    }
   },
   "outputs": [
    {
     "name": "stdout",
     "output_type": "stream",
     "text": [
      "Мяукнуть\n",
      "Побежать вперед\n"
     ]
    }
   ],
   "source": [
    "abstract class Animal\n",
    "{\n",
    "    public abstract void Voice();\n",
    "    public void Activity()\n",
    "    {\n",
    "        Console.WriteLine(\"Побежать вперед\");\n",
    "    }\n",
    "}\n",
    "class Cat : Animal\n",
    "{\n",
    "    public override void Voice()\n",
    "    {\n",
    "        Console.WriteLine(\"Мяукнуть\");\n",
    "    }\n",
    "}\n",
    "Cat myCat = new Cat();\n",
    "myCat.Voice();\n",
    "myCat.Activity();"
   ]
  },
  {
   "cell_type": "markdown",
   "metadata": {},
   "source": [
    "<h5 style=\"color:Red\">Задание:</h5>\n",
    "Ниже в блоке по примеру создайте класс Animal и реализуйте композицию "
   ]
  },
  {
   "cell_type": "code",
   "execution_count": 1,
   "metadata": {
    "dotnet_interactive": {
     "language": "csharp"
    },
    "polyglot_notebook": {
     "kernelName": "csharp"
    },
    "vscode": {
     "languageId": "polyglot-notebook"
    }
   },
   "outputs": [
    {
     "name": "stdout",
     "output_type": "stream",
     "text": [
      "Животное проснулось\n",
      "Животное бегает\n",
      "Животное спит\n"
     ]
    }
   ],
   "source": [
    "public class Sleeping\n",
    "{\n",
    "    public void Start() => Console.WriteLine(\"Животное проснулось\");\n",
    "    public void Stop() => Console.WriteLine(\"Животное спит\");\n",
    "}\n",
    "public class Animal\n",
    "{\n",
    "    private Sleeping sleeping;\n",
    "    public Animal (Sleeping sleeping)\n",
    "    {\n",
    "        this.sleeping = sleeping;\n",
    "    }\n",
    "    public void Activity()\n",
    "    {\n",
    "        sleeping.Start();\n",
    "        Console.WriteLine(\"Животное бегает\");\n",
    "        sleeping.Stop();\n",
    "    }\n",
    "}\n",
    "\n",
    "Sleeping mySleeping = new Sleeping();\n",
    "Animal myAnimal = new Animal(mySleeping);\n",
    "myAnimal.Activity();"
   ]
  },
  {
   "cell_type": "markdown",
   "metadata": {},
   "source": [
    "<h5 style=\"color:Red\">Задание:</h5>\n",
    "Ниже в блоке по примеру создайте класс Animal и реализуйте агрегацию "
   ]
  },
  {
   "cell_type": "code",
   "execution_count": 2,
   "metadata": {
    "dotnet_interactive": {
     "language": "csharp"
    },
    "polyglot_notebook": {
     "kernelName": "csharp"
    },
    "vscode": {
     "languageId": "polyglot-notebook"
    }
   },
   "outputs": [
    {
     "name": "stdout",
     "output_type": "stream",
     "text": [
      "Животное бежит\n",
      "Лиза проснулась\n",
      "Животное бежит\n"
     ]
    }
   ],
   "source": [
    "abstract class Animal\n",
    "{\n",
    "    public abstract void Activity();\n",
    "}\n",
    "class Forename\n",
    "{\n",
    "    public string Name {get;set;}\n",
    "    public Forename (string name)\n",
    "    {\n",
    "        Name = name;\n",
    "    }\n",
    "    public void Activity(Animal animal)\n",
    "    {\n",
    "        Console.WriteLine($\"{Name} проснулась\");\n",
    "        animal.Activity();\n",
    "    }\n",
    "}\n",
    "class Cat : Animal\n",
    "{  \n",
    "    private Forename forename;\n",
    "    public Cat(Forename forename)\n",
    "    {\n",
    "        this.forename = forename;\n",
    "    }\n",
    "    public override void Activity()\n",
    "    {\n",
    "        Console.WriteLine(\"Животное бежит\");\n",
    "    }\n",
    "}\n",
    "Forename Liza = new Forename(\"Лиза\");\n",
    "Cat myCat = new Cat(Liza);\n",
    "myCat.Activity();\n",
    "Liza.Activity(myCat);"
   ]
  }
 ],
 "metadata": {
  "kernelspec": {
   "display_name": ".NET (C#)",
   "language": "C#",
   "name": ".net-csharp"
  },
  "language_info": {
   "name": "python"
  },
  "polyglot_notebook": {
   "kernelInfo": {
    "defaultKernelName": "csharp",
    "items": [
     {
      "aliases": [],
      "name": "csharp"
     }
    ]
   }
  }
 },
 "nbformat": 4,
 "nbformat_minor": 2
}
