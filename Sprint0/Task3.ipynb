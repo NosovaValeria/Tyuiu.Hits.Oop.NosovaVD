{
 "cells": [
  {
   "cell_type": "markdown",
   "metadata": {},
   "source": [
    "<h1 style=\"color:DodgerBlue\">Индивидуальный проект</h1>"
   ]
  },
  {
   "cell_type": "markdown",
   "metadata": {},
   "source": [
    "<h2 style=\"color:DodgerBlue\">Название проекта:</h2>\n",
    "\n",
    "----\n",
    "\n",
    "### Вариант задания 20"
   ]
  },
  {
   "cell_type": "markdown",
   "metadata": {},
   "source": [
    "<h2 style=\"color:DodgerBlue\">Описание проекта:</h2>\n",
    "\n",
    "----\n",
    "\n",
    "**Описание задачи:**\n",
    "Создать базовый класс Event в C#, который будет представлять организованные мероприятия. На основе этого класса разработать 2-3 производных класса,\n",
    "демонстрирующих принципы наследования и полиморфизма. В каждом из классов должны быть реализованы новые атрибуты и методы, а также переопределены\n",
    "некоторые методы базового класса для демонстрации полиморфизма.\n",
    "\n",
    "**Требования к базовому классу Event**:\n",
    "\n",
    "Атрибуты: ID мероприятия (EventId), Название мероприятия (EventName), Дата проведения (Date).\n",
    "\n",
    "Методы:\n",
    "- RegisterParticipant(): метод для регистрации участника.\n",
    "- NotifyParticipants(): метод для уведомления участников о мероприятии.\n",
    "- GetEventDetails(): метод для получения деталей мероприятия.\n",
    "\n",
    "**Требования к производным классам:**\n",
    "1. Конференция (Conference): Должна содержать дополнительные атрибуты, такие как Количество спикеров (SpeakersCount). Метод NotifyParticipants() должен быть переопределен для отправки уведомлений с программой конференции.\n",
    "2. Фестиваль (Festival): Должна содержать дополнительные атрибуты, такие как Количество музыкальных групп (BandsCount). Метод RegisterParticipant() должен быть переопределен для регистрации участников с выбором интересующих музыкальных жанров.\n",
    "3. Семинар (Seminar) (если требуется третий класс): Должна содержать дополнительные атрибуты, такие как Тематическая область (Topics). Метод GetEventDetails() должен быть переопределен для отображения тематической области семинара вместе с другими деталями мероприятия."
   ]
  },
  {
   "cell_type": "markdown",
   "metadata": {},
   "source": [
    "<h2 style=\"color:DodgerBlue\">Реализация:</h2>\n",
    "\n",
    "----"
   ]
  },
  {
   "cell_type": "code",
   "execution_count": 1,
   "metadata": {
    "dotnet_interactive": {
     "language": "csharp"
    },
    "polyglot_notebook": {
     "kernelName": "csharp"
    },
    "vscode": {
     "languageId": "polyglot-notebook"
    }
   },
   "outputs": [
    {
     "name": "stdout",
     "output_type": "stream",
     "text": [
      "Участник Анна зарегистрирован на мероприятие 'Конференция по сохранению природы'\n",
      "Участник Вера зарегистрирован на мероприятие 'Конференция по сохранению природы'\n",
      "Уведомление о мероприятии 'Конференция по сохранению природы'. Программа конференции: Количество спикеров: 5\n",
      "Анна, вы приглашены на конференцию 'Конференция по сохранению природы'.\n",
      "Вера, вы приглашены на конференцию 'Конференция по сохранению природы'.\n",
      "Детали мероприятия 'Конференция по сохранению природы': ID: 1, Наименование: Конференция по сохранению природы, Дата проведения: 20.09.2024\n",
      "\n",
      "\n",
      "Участник Людмила зарегистрирован на фестиваль 'Фестиваль классической музыки' с выбором интересующих музыкальных жанров\n",
      "Уведомление о мероприятии 'Фестиваль классической музыки'\n",
      "Людмила, вы приглашены на мероприятие Фестиваль классической музыки.\n",
      "Детали мероприятия 'Фестиваль классической музыки': ID: 2, Наименование: Фестиваль классической музыки, Дата проведения: 27.10.2024\n",
      "Количество музыкальных групп: 3\n",
      "\n",
      "\n",
      "Участник Евгений зарегистрирован на мероприятие 'Семинар по объектно-ориентированному программированию'\n",
      "Уведомление о мероприятии 'Семинар по объектно-ориентированному программированию'\n",
      "Евгений, вы приглашены на мероприятие Семинар по объектно-ориентированному программированию.\n",
      "Детали семинара 'Семинар по объектно-ориентированному программированию'': ID: 3, Наименование: Семинар по объектно-ориентированному программированию,\n",
      "Дата проведения: 16.09.2024, Тематическая область семинара: C#, Python\n"
     ]
    }
   ],
   "source": [
    "public class Event\n",
    "{\n",
    "    public int EventId {get;set;}\n",
    "    public string EventName {get;set;}\n",
    "    public string Date {get;set;}\n",
    "    protected List<string> Participants { get; set; } = new List<string>();\n",
    "\n",
    "    public Event(int eventId, string eventName, string date)\n",
    "    {\n",
    "        EventId = eventId;\n",
    "        EventName = eventName;\n",
    "        Date = date;\n",
    "    }\n",
    "    public virtual void RegisterParticipant(string participant)\n",
    "    {\n",
    "        Participants.Add(participant);\n",
    "        Console.WriteLine($\"Участник {participant} зарегистрирован на мероприятие '{EventName}'\");\n",
    "    }\n",
    "    public virtual void NotifyParticipants()\n",
    "    {\n",
    "        Console.WriteLine($\"Уведомление о мероприятии '{EventName}'\");\n",
    "        foreach (var participant in Participants)\n",
    "        {\n",
    "            Console.WriteLine($\"{participant}, вы приглашены на мероприятие {EventName}.\");\n",
    "        }\n",
    "    }\n",
    "    public virtual void GetEventDetails()\n",
    "    {\n",
    "        Console.WriteLine($\"Детали мероприятия '{EventName}': ID: {EventId}, Наименование: {EventName}, Дата проведения: {Date}\");\n",
    "    }\n",
    "}\n",
    "public class Conference : Event\n",
    "{\n",
    "    public int SpeakersCount { get; set; }\n",
    "\n",
    "    public Conference(int eventId, string eventName, string date, int speakersCount) : base (eventId, eventName, date) \n",
    "    {\n",
    "        SpeakersCount = speakersCount;\n",
    "    }\n",
    "    public string EventSpeakers()\n",
    "    {\n",
    "       string info = $\"Количество спикеров: {SpeakersCount}\";\n",
    "        return info;\n",
    "    }\n",
    "    public override void NotifyParticipants()\n",
    "    {\n",
    "        Console.WriteLine($\"Уведомление о мероприятии '{EventName}'. Программа конференции: {EventSpeakers()}\");\n",
    "        foreach (var participant in Participants)\n",
    "        {\n",
    "            Console.WriteLine($\"{participant}, вы приглашены на конференцию '{EventName}'.\");\n",
    "        }\n",
    "    }\n",
    "    \n",
    "}\n",
    "\n",
    "public class Festival : Event\n",
    "{\n",
    "    public int BandsCount {get;set;}\n",
    "    public Festival(int eventId, string eventName, string date, int bandsCount) : base(eventId, eventName, date)\n",
    "    {\n",
    "        BandsCount = bandsCount;\n",
    "    }\n",
    "    public override void RegisterParticipant(string participant)\n",
    "    {\n",
    "        Participants.Add(participant);\n",
    "        Console.WriteLine($\"Участник {participant} зарегистрирован на фестиваль '{EventName}' с выбором интересующих музыкальных жанров\");\n",
    "    }\n",
    "    public void EventBands()\n",
    "    {\n",
    "        Console.WriteLine($\"Количество музыкальных групп: {BandsCount}\");\n",
    "    }\n",
    "}\n",
    "\n",
    "public class Seminar : Event\n",
    "{\n",
    "    public string Topics {get;set;}\n",
    "    public Seminar(int eventId, string eventName, string date, string topics) : base(eventId, eventName, date)\n",
    "    {\n",
    "        Topics = topics;\n",
    "    }\n",
    "    public override void GetEventDetails()\n",
    "    {\n",
    "        Console.WriteLine($\"Детали семинара '{EventName}'': ID: {EventId}, Наименование: {EventName},\\nДата проведения: {Date}, Тематическая область семинара: {Topics}\");\n",
    "    }\n",
    "    public void EventTopics()\n",
    "    {\n",
    "        Console.WriteLine($\"Тематическая область: {Topics}\");\n",
    "    }\n",
    "}\n",
    "\n",
    "Conference conference = new Conference(1, \"Конференция по сохранению природы\", \"20.09.2024\", 5);\n",
    "conference.RegisterParticipant(\"Анна\");\n",
    "conference.RegisterParticipant(\"Вера\");\n",
    "conference.NotifyParticipants();\n",
    "conference.GetEventDetails();\n",
    "Console.WriteLine(\"\\n\");\n",
    "Festival festival = new Festival(2, \"Фестиваль классической музыки\", \"27.10.2024\", 3);\n",
    "festival.RegisterParticipant(\"Людмила\");\n",
    "festival.NotifyParticipants();\n",
    "festival.GetEventDetails();\n",
    "festival.EventBands();\n",
    "Console.WriteLine(\"\\n\");\n",
    "Seminar seminar = new Seminar(3, \"Семинар по объектно-ориентированному программированию\", \"16.09.2024\", \"C#, Python\");\n",
    "seminar.RegisterParticipant(\"Евгений\");\n",
    "seminar.NotifyParticipants();\n",
    "seminar.GetEventDetails();\n"
   ]
  }
 ],
 "metadata": {
  "kernelspec": {
   "display_name": ".NET (C#)",
   "language": "C#",
   "name": ".net-csharp"
  },
  "language_info": {
   "name": "python"
  },
  "polyglot_notebook": {
   "kernelInfo": {
    "defaultKernelName": "csharp",
    "items": [
     {
      "aliases": [],
      "name": "csharp"
     }
    ]
   }
  }
 },
 "nbformat": 4,
 "nbformat_minor": 2
}
