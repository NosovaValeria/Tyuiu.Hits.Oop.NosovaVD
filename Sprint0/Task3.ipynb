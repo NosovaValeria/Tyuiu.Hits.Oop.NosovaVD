{
 "cells": [
  {
   "cell_type": "markdown",
   "metadata": {},
   "source": [
    "<h1 style=\"color:DodgerBlue\">Индивидуальный проект</h1>"
   ]
  },
  {
   "cell_type": "markdown",
   "metadata": {},
   "source": [
    "<h2 style=\"color:DodgerBlue\">Название проекта:</h2>\n",
    "\n",
    "----\n",
    "\n",
    "### Вариант задания 20"
   ]
  },
  {
   "cell_type": "markdown",
   "metadata": {},
   "source": [
    "<h2 style=\"color:DodgerBlue\">Описание проекта:</h2>\n",
    "\n",
    "----\n",
    "\n",
    "**Описание задачи:**\n",
    "Создать базовый класс Event в C#, который будет представлять организованные мероприятия. На основе этого класса разработать 2-3 производных класса,\n",
    "демонстрирующих принципы наследования и полиморфизма. В каждом из классов должны быть реализованы новые атрибуты и методы, а также переопределены\n",
    "некоторые методы базового класса для демонстрации полиморфизма.\n",
    "\n",
    "**Требования к базовому классу Event**:\n",
    "\n",
    "Атрибуты: ID мероприятия (EventId), Название мероприятия (EventName), Дата проведения (Date).\n",
    "\n",
    "Методы:\n",
    "- RegisterParticipant(): метод для регистрации участника.\n",
    "- NotifyParticipants(): метод для уведомления участников о мероприятии.\n",
    "- GetEventDetails(): метод для получения деталей мероприятия.\n",
    "\n",
    "**Требования к производным классам:**\n",
    "1. Конференция (Conference): Должна содержать дополнительные атрибуты, такие как Количество спикеров (SpeakersCount). Метод NotifyParticipants() должен быть переопределен для отправки уведомлений с программой конференции.\n",
    "2. Фестиваль (Festival): Должна содержать дополнительные атрибуты, такие как Количество музыкальных групп (BandsCount). Метод RegisterParticipant() должен быть переопределен для регистрации участников с выбором интересующих музыкальных жанров.\n",
    "3. Семинар (Seminar) (если требуется третий класс): Должна содержать дополнительные атрибуты, такие как Тематические области (Topics). Метод GetEventDetails() должен быть переопределен для отображения тематических областей семинара вместе с другими деталями мероприятия."
   ]
  },
  {
   "cell_type": "markdown",
   "metadata": {},
   "source": [
    "<h2 style=\"color:DodgerBlue\">Реализация:</h2>\n",
    "\n",
    "----"
   ]
  },
  {
   "cell_type": "code",
   "execution_count": 12,
   "metadata": {
    "vscode": {
     "languageId": "polyglot-notebook"
    }
   },
   "outputs": [
    {
     "name": "stdout",
     "output_type": "stream",
     "text": [
      "Участник зарегистрирован на мероприятие 'Конференция по сохранению природы'\n",
      "Уведомление о мероприятии 'Конференция по сохранению природы'' и программа конференции\n",
      "Детали мероприятия 'Конференция по сохранению природы'': ID: 1, Наименование: Конференция по сохранению природы, Дата проведения: 07.09.2024 17:31:47\n",
      "\n",
      "\n",
      "Участник зарегистрирован на фестиваль 'Фестиваль классической музыки'' с выбором интересующих музыкальных жанров\n",
      "Уведомление о мероприятии 'Фестиваль классической музыки'\n",
      "Детали мероприятия 'Фестиваль классической музыки'': ID: 2, Наименование: Фестиваль классической музыки, Дата проведения: 07.09.2024 17:31:47\n",
      "\n",
      "\n",
      "Участник зарегистрирован на мероприятие 'Семинар по объектно-ориентированному программированию'\n",
      "Уведомление о мероприятии 'Семинар по объектно-ориентированному программированию'\n",
      "Детали семинара 'Семинар по объектно-ориентированному программированию'': ID: 3, Наименование: Семинар по объектно-ориентированному программированию,\n",
      "Дата проведения: 07.09.2024 17:31:47, Тематические области семинара: C#\n"
     ]
    }
   ],
   "source": [
    "public class Event\n",
    "{\n",
    "    public int EventId {get;set;}\n",
    "    public string EventName {get;set;}\n",
    "    public DateTime Date {get;set;}\n",
    "\n",
    "    public Event(int eventId, string eventName, DateTime date)\n",
    "    {\n",
    "        EventId = eventId;\n",
    "        EventName = eventName;\n",
    "        Date = date;\n",
    "    }\n",
    "    public virtual void RegisterParticipant()\n",
    "    {\n",
    "        Console.WriteLine($\"Участник зарегистрирован на мероприятие '{EventName}'\");\n",
    "    }\n",
    "    public virtual void NotifyParticipants()\n",
    "    {\n",
    "        Console.WriteLine($\"Уведомление о мероприятии '{EventName}'\");\n",
    "    }\n",
    "    public virtual void GetEventDetails()\n",
    "    {\n",
    "        Console.WriteLine($\"Детали мероприятия '{EventName}'': ID: {EventId}, Наименование: {EventName}, Дата проведения: {Date}\");\n",
    "    }\n",
    "}\n",
    "public class Conference : Event\n",
    "{\n",
    "    public int SpeakersCount { get; set; }\n",
    "\n",
    "    public Conference(int eventId, string eventName, DateTime date, int speakersCount) : base (eventId, eventName, date) \n",
    "    {\n",
    "        SpeakersCount = speakersCount;\n",
    "    }\n",
    "    public override void NotifyParticipants()\n",
    "    {\n",
    "        Console.WriteLine($\"Уведомление о мероприятии '{EventName}'' и программа конференции\");\n",
    "    }\n",
    "}\n",
    "\n",
    "public class Festival : Event\n",
    "{\n",
    "    public int BandsCount {get;set;}\n",
    "    public Festival(int eventId, string eventName, DateTime date, int bandsCount) : base(eventId, eventName, date)\n",
    "    {\n",
    "        BandsCount = bandsCount;\n",
    "    }\n",
    "    public override void RegisterParticipant()\n",
    "    {\n",
    "        Console.WriteLine($\"Участник зарегистрирован на фестиваль '{EventName}'' с выбором интересующих музыкальных жанров\");\n",
    "    }\n",
    "}\n",
    "\n",
    "public class Seminar : Event\n",
    "{\n",
    "    public string Topics {get;set;}\n",
    "    public Seminar(int eventId, string eventName, DateTime date, string topics) : base(eventId, eventName, date)\n",
    "    {\n",
    "        Topics = topics;\n",
    "    }\n",
    "    public override void GetEventDetails()\n",
    "    {\n",
    "        Console.WriteLine($\"Детали семинара '{EventName}'': ID: {EventId}, Наименование: {EventName},\\nДата проведения: {Date}, Тематические области семинара: {Topics}\");\n",
    "    }\n",
    "}\n",
    "\n",
    "Conference conference = new Conference(1, \"Конференция по сохранению природы\", DateTime.Now, 5);\n",
    "conference.RegisterParticipant();\n",
    "conference.NotifyParticipants();\n",
    "conference.GetEventDetails();\n",
    "Console.WriteLine(\"\\n\");\n",
    "Festival festival = new Festival(2, \"Фестиваль классической музыки\", DateTime.Now, 3);\n",
    "festival.RegisterParticipant();\n",
    "festival.NotifyParticipants();\n",
    "festival.GetEventDetails();\n",
    "Console.WriteLine(\"\\n\");\n",
    "Seminar seminar = new Seminar(3, \"Семинар по объектно-ориентированному программированию\", DateTime.Now, \"C#\");\n",
    "seminar.RegisterParticipant();\n",
    "seminar.NotifyParticipants();\n",
    "seminar.GetEventDetails();"
   ]
  }
 ],
 "metadata": {
  "kernelspec": {
   "display_name": ".NET (C#)",
   "language": "C#",
   "name": ".net-csharp"
  },
  "language_info": {
   "name": "python"
  },
  "polyglot_notebook": {
   "kernelInfo": {
    "defaultKernelName": "csharp",
    "items": [
     {
      "aliases": [],
      "name": "csharp"
     }
    ]
   }
  }
 },
 "nbformat": 4,
 "nbformat_minor": 2
}
