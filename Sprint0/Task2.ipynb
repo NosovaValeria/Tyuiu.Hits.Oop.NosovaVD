{
 "cells": [
  {
   "cell_type": "markdown",
   "metadata": {},
   "source": [
    "<h5 style=\"color:Red\">Задание:</h5>\n",
    "Ниже в блоке реализуйте принцип  Single Responsibility Principle (Принцип единственной обязанности) на базе класса Animal"
   ]
  },
  {
   "cell_type": "code",
   "execution_count": 6,
   "metadata": {
    "dotnet_interactive": {
     "language": "csharp"
    },
    "polyglot_notebook": {
     "kernelName": "csharp"
    },
    "vscode": {
     "languageId": "polyglot-notebook"
    }
   },
   "outputs": [
    {
     "name": "stdout",
     "output_type": "stream",
     "text": [
      "Животное играет мячиком\n",
      "Собака машет хвостом\n",
      "Животное играет мячиком\n"
     ]
    }
   ],
   "source": [
    "public class Animal\n",
    "{\n",
    "    public virtual void Activity()\n",
    "    {\n",
    "        Console.WriteLine(\"Животное играет мячиком\");\n",
    "    }\n",
    "}\n",
    "public interface IGo\n",
    "{\n",
    "    void Wave();\n",
    "}\n",
    "public class Dog : Animal, IGo\n",
    "{\n",
    "    public void Wave()\n",
    "    {\n",
    "        Console.WriteLine(\"Собака машет хвостом\");\n",
    "    }\n",
    "}\n",
    "Animal animal = new Animal();\n",
    "animal.Activity();\n",
    "Dog myDog = new Dog();\n",
    "myDog.Wave();\n",
    "myDog.Activity();"
   ]
  },
  {
   "cell_type": "markdown",
   "metadata": {},
   "source": [
    "<h5 style=\"color:Red\">Задание:</h5>\n",
    "Ниже в блоке реализуйте принцип  Open/Closed Principle (Принцип открытости/закрытости) на базе класса Animal"
   ]
  },
  {
   "cell_type": "code",
   "execution_count": 11,
   "metadata": {
    "dotnet_interactive": {
     "language": "csharp"
    },
    "polyglot_notebook": {
     "kernelName": "csharp"
    },
    "vscode": {
     "languageId": "polyglot-notebook"
    }
   },
   "outputs": [
    {
     "name": "stdout",
     "output_type": "stream",
     "text": [
      "Животное машет хвостом\n",
      "Собака лает\n",
      "Собака машет хвостом\n"
     ]
    }
   ],
   "source": [
    "public interface IGo\n",
    "{\n",
    "    void Wave();\n",
    "}\n",
    "public class Animal : IGo\n",
    "{\n",
    "    public void Wave()\n",
    "    {\n",
    "        Console.WriteLine(\"Животное машет хвостом\");\n",
    "    }\n",
    "}\n",
    "public class Dog : IGo\n",
    "{\n",
    "    public void Wave()\n",
    "    {\n",
    "        Console.WriteLine(\"Собака машет хвостом\");\n",
    "    }\n",
    "    public void Voice()\n",
    "    {\n",
    "        Console.WriteLine(\"Собака лает\");\n",
    "    }\n",
    "}\n",
    "Animal animal = new Animal();\n",
    "animal.Wave();\n",
    "Dog myDog = new Dog();\n",
    "myDog.Voice();\n",
    "myDog.Wave();"
   ]
  },
  {
   "cell_type": "markdown",
   "metadata": {},
   "source": [
    "<h5 style=\"color:Red\">Задание:</h5>\n",
    "Ниже в блоке реализуйте принцип Liskov Substitution Principle (Принцип подстановки Лисков) на базе класса Animal"
   ]
  },
  {
   "cell_type": "code",
   "execution_count": 15,
   "metadata": {
    "dotnet_interactive": {
     "language": "csharp"
    },
    "polyglot_notebook": {
     "kernelName": "csharp"
    },
    "vscode": {
     "languageId": "polyglot-notebook"
    }
   },
   "outputs": [
    {
     "name": "stdout",
     "output_type": "stream",
     "text": [
      "Лошадь бежит рысью\n",
      "Лошадь отдыхает\n",
      "Лиса идет\n"
     ]
    }
   ],
   "source": [
    "public interface IRunAnimal\n",
    "{\n",
    "    void Run();\n",
    "}\n",
    "public interface IGoAnimal\n",
    "{\n",
    "    void Go();\n",
    "}\n",
    "public class Horse : IRunAnimal\n",
    "{\n",
    "    public void Run()\n",
    "    {\n",
    "        Console.WriteLine(\"Лошадь бежит рысью\");\n",
    "    }\n",
    "    public void Slepp()\n",
    "    {\n",
    "        Console.WriteLine(\"Лошадь отдыхает\");\n",
    "    }\n",
    "}\n",
    "public class Fox : IGoAnimal\n",
    "{\n",
    "    public void Go()\n",
    "    {\n",
    "        Console.WriteLine(\"Лиса идет\");\n",
    "    }\n",
    "}\n",
    "Horse myHorse = new Horse();\n",
    "Fox myFox = new Fox();\n",
    "\n",
    "myHorse.Run();\n",
    "myHorse.Slepp();\n",
    "myFox.Go();"
   ]
  },
  {
   "cell_type": "markdown",
   "metadata": {},
   "source": [
    "<h5 style=\"color:Red\">Задание:</h5>\n",
    "Ниже в блоке реализуйте принцип Interface Segregation Principle (Принцип разделения интерфейсов) на базе класса Animal"
   ]
  },
  {
   "cell_type": "code",
   "execution_count": 18,
   "metadata": {
    "dotnet_interactive": {
     "language": "csharp"
    },
    "polyglot_notebook": {
     "kernelName": "csharp"
    },
    "vscode": {
     "languageId": "polyglot-notebook"
    }
   },
   "outputs": [
    {
     "name": "stdout",
     "output_type": "stream",
     "text": [
      "Животное идет\n",
      "Кошка идет\n",
      "Кошка лакает воду\n",
      "Кролик пьет воду\n",
      "Кролик прыгает по поляне\n"
     ]
    }
   ],
   "source": [
    "public interface IGoAnimal\n",
    "{\n",
    "    void Go();\n",
    "}\n",
    "public interface IDrink\n",
    "{\n",
    "    void Drink();\n",
    "}\n",
    "public interface IJump\n",
    "{\n",
    "    void Jump();\n",
    "}\n",
    "public class Animal : IGoAnimal\n",
    "{\n",
    "    public void Go()\n",
    "    {\n",
    "        Console.WriteLine(\"Животное идет\");\n",
    "    }\n",
    "}\n",
    "public class Cat : IGoAnimal, IDrink\n",
    "{\n",
    "    public void Go()\n",
    "    {\n",
    "        Console.WriteLine(\"Кошка идет\");\n",
    "    }\n",
    "    public void Drink()\n",
    "    {\n",
    "        Console.WriteLine(\"Кошка лакает воду\");\n",
    "    }\n",
    "}\n",
    "class Rabbit : IDrink, IJump\n",
    "{\n",
    "    public void Drink()\n",
    "    {\n",
    "        Console.WriteLine(\"Кролик пьет воду\");\n",
    "    }\n",
    "    public void Jump()\n",
    "    {\n",
    "        Console.WriteLine(\"Кролик прыгает по поляне\");\n",
    "    }\n",
    "}\n",
    "\n",
    "Animal myAnimal = new Animal();\n",
    "Cat myCat = new Cat();\n",
    "Rabbit myRabbit = new Rabbit();\n",
    "myAnimal.Go();\n",
    "myCat.Go();\n",
    "myCat.Drink();\n",
    "myRabbit.Drink();\n",
    "myRabbit.Jump();"
   ]
  },
  {
   "cell_type": "markdown",
   "metadata": {},
   "source": [
    "<h5 style=\"color:Red\">Задание:</h5>\n",
    "Ниже в блоке реализуйте принцип  Dependency Inversion Principle (Принцип инверсии зависимостей) на базе класса Animal"
   ]
  },
  {
   "cell_type": "code",
   "execution_count": 20,
   "metadata": {
    "dotnet_interactive": {
     "language": "csharp"
    },
    "polyglot_notebook": {
     "kernelName": "csharp"
    },
    "vscode": {
     "languageId": "polyglot-notebook"
    }
   },
   "outputs": [
    {
     "name": "stdout",
     "output_type": "stream",
     "text": [
      "Голодное животное начало кушать\r\n"
     ]
    }
   ],
   "source": [
    "public interface IEat\n",
    "{\n",
    "    void Start();\n",
    "}\n",
    "public class HungryAnimal : IEat\n",
    "{\n",
    "    public void Start()\n",
    "    {\n",
    "        Console.WriteLine(\"Голодное животное начало кушать\");\n",
    "    }\n",
    "}\n",
    "public class Animal\n",
    "{\n",
    "    private IEat _eat;\n",
    "    public Animal(IEat eat)\n",
    "    {\n",
    "        _eat = eat;\n",
    "    }\n",
    "    public void StartEat()\n",
    "    {\n",
    "        _eat.Start();\n",
    "    }\n",
    "}\n",
    "HungryAnimal hungryAnimal = new HungryAnimal();\n",
    "Animal myAnimal = new Animal(hungryAnimal);\n",
    "myAnimal.StartEat();"
   ]
  }
 ],
 "metadata": {
  "kernelspec": {
   "display_name": ".NET (C#)",
   "language": "C#",
   "name": ".net-csharp"
  },
  "language_info": {
   "name": "python"
  },
  "polyglot_notebook": {
   "kernelInfo": {
    "defaultKernelName": "csharp",
    "items": [
     {
      "aliases": [],
      "name": "csharp"
     }
    ]
   }
  }
 },
 "nbformat": 4,
 "nbformat_minor": 2
}
