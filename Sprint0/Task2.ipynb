{
 "cells": [
  {
   "cell_type": "markdown",
   "metadata": {},
   "source": [
    "<h5 style=\"color:Red\">Задание:</h5>\n",
    "Ниже в блоке реализуйте принцип  Single Responsibility Principle (Принцип единственной обязанности) на базе класса Animal"
   ]
  },
  {
   "cell_type": "code",
   "execution_count": 1,
   "metadata": {
    "dotnet_interactive": {
     "language": "csharp"
    },
    "polyglot_notebook": {
     "kernelName": "csharp"
    },
    "vscode": {
     "languageId": "polyglot-notebook"
    }
   },
   "outputs": [],
   "source": [
    "public class Animal\n",
    "{\n",
    "    public virtual void Activity()\n",
    "    {\n",
    "        Console.WriteLine(\"Животное играет мячиком\");\n",
    "    }\n",
    "}\n",
    "public interface IGo\n",
    "{\n",
    "    void Wave();\n",
    "}\n",
    "public class Dog : Animal, IGo\n",
    "{\n",
    "    public void Wave()\n",
    "    {\n",
    "        Console.WriteLine(\"Собака машет хвостом\");\n",
    "    }\n",
    "}"
   ]
  },
  {
   "cell_type": "markdown",
   "metadata": {},
   "source": [
    "<h5 style=\"color:Red\">Задание:</h5>\n",
    "Ниже в блоке реализуйте принцип  Open/Closed Principle (Принцип открытости/закрытости) на базе класса Animal"
   ]
  },
  {
   "cell_type": "code",
   "execution_count": 6,
   "metadata": {
    "vscode": {
     "languageId": "polyglot-notebook"
    }
   },
   "outputs": [],
   "source": [
    "public interface IGo\n",
    "{\n",
    "    void Wave();\n",
    "}\n",
    "public class Animal : IGo\n",
    "{\n",
    "    public void Wave()\n",
    "    {\n",
    "        Console.WriteLine(\"Животное машет хвостом\");\n",
    "    }\n",
    "}\n",
    "public class Dog : IGo\n",
    "{\n",
    "    public void Wave()\n",
    "    {\n",
    "        Console.WriteLine(\"Собака машет хвостом\");\n",
    "    }\n",
    "    public void Voice()\n",
    "    {\n",
    "        Console.WriteLine(\"Собака лает\");\n",
    "    }\n",
    "}"
   ]
  },
  {
   "cell_type": "markdown",
   "metadata": {},
   "source": [
    "<h5 style=\"color:Red\">Задание:</h5>\n",
    "Ниже в блоке реализуйте принцип Liskov Substitution Principle (Принцип подстановки Лисков) на базе класса Animal"
   ]
  },
  {
   "cell_type": "code",
   "execution_count": 10,
   "metadata": {
    "vscode": {
     "languageId": "polyglot-notebook"
    }
   },
   "outputs": [],
   "source": [
    "public interface IRunAnimal\n",
    "{\n",
    "    void Run();\n",
    "}\n",
    "public interface IGoAnimal\n",
    "{\n",
    "    void Go();\n",
    "}\n",
    "public class Horse : IRunAnimal\n",
    "{\n",
    "    public void Run()\n",
    "    {\n",
    "        Console.WriteLine(\"Лошадь бежит рысью\");\n",
    "    }\n",
    "    public void Slepp()\n",
    "    {\n",
    "        Console.WriteLine(\"Лошадь отдыхает\");\n",
    "    }\n",
    "}\n",
    "public class Fox : IGoAnimal\n",
    "{\n",
    "    public void Go()\n",
    "    {\n",
    "        Console.WriteLine(\"Лиса идет\");\n",
    "    }\n",
    "}"
   ]
  },
  {
   "cell_type": "markdown",
   "metadata": {},
   "source": [
    "<h5 style=\"color:Red\">Задание:</h5>\n",
    "Ниже в блоке реализуйте принцип Interface Segregation Principle (Принцип разделения интерфейсов) на базе класса Animal"
   ]
  },
  {
   "cell_type": "code",
   "execution_count": 13,
   "metadata": {
    "vscode": {
     "languageId": "polyglot-notebook"
    }
   },
   "outputs": [],
   "source": [
    "public interface IGoAnimal\n",
    "{\n",
    "    void Go();\n",
    "}\n",
    "public interface IDrink\n",
    "{\n",
    "    void Drink();\n",
    "}\n",
    "public interface IJump\n",
    "{\n",
    "    void Jump();\n",
    "}\n",
    "public class Cat : IGoAnimal, IDrink\n",
    "{\n",
    "    public void Go()\n",
    "    {\n",
    "        Console.WriteLine(\"Кошка идет\");\n",
    "    }\n",
    "    public void Drink()\n",
    "    {\n",
    "        Console.WriteLine(\"Кошка лакает воду\");\n",
    "    }\n",
    "}\n",
    "class Rabbit : IDrink, IJump\n",
    "{\n",
    "    public void Drink()\n",
    "    {\n",
    "        Console.WriteLine(\"Кролик пьет воду\");\n",
    "    }\n",
    "    public void Jump()\n",
    "    {\n",
    "        Console.WriteLine(\"Кролик прыгает по поляне\");\n",
    "    }\n",
    "}"
   ]
  },
  {
   "cell_type": "markdown",
   "metadata": {},
   "source": [
    "<h5 style=\"color:Red\">Задание:</h5>\n",
    "Ниже в блоке реализуйте принцип  Dependency Inversion Principle (Принцип инверсии зависимостей) на базе класса Animal"
   ]
  },
  {
   "cell_type": "code",
   "execution_count": 15,
   "metadata": {
    "vscode": {
     "languageId": "polyglot-notebook"
    }
   },
   "outputs": [],
   "source": [
    "public interface IEat\n",
    "{\n",
    "    void Start();\n",
    "}\n",
    "public class HungryAnimal : IEat\n",
    "{\n",
    "    public void Start()\n",
    "    {\n",
    "        Console.WriteLine(\"Голодное животное начало кушать\");\n",
    "    }\n",
    "}\n",
    "public class Animal\n",
    "{\n",
    "    private IEat _eat;\n",
    "    public Animal(IEat eat)\n",
    "    {\n",
    "        _eat = eat;\n",
    "    }\n",
    "    public void StartEat()\n",
    "    {\n",
    "        _eat.Start();\n",
    "    }\n",
    "}"
   ]
  }
 ],
 "metadata": {
  "kernelspec": {
   "display_name": ".NET (C#)",
   "language": "C#",
   "name": ".net-csharp"
  },
  "language_info": {
   "name": "python"
  },
  "polyglot_notebook": {
   "kernelInfo": {
    "defaultKernelName": "csharp",
    "items": [
     {
      "aliases": [],
      "name": "csharp"
     }
    ]
   }
  }
 },
 "nbformat": 4,
 "nbformat_minor": 2
}
