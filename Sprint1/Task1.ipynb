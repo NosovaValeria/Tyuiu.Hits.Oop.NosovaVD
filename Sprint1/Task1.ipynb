{
 "cells": [
  {
   "cell_type": "markdown",
   "metadata": {},
   "source": [
    "<h5 style=\"color:Red\">Задание:</h5>\n",
    "Ниже в блоке по примеру создайте базовый класс Animal и производные классы (2-3 например Dog, Cat и так далее) реализуйте структуру и объявление класса, включая свойства, геттеры и сеттеры, а также статические и обычными атрибуты и метода класса"
   ]
  },
  {
   "cell_type": "code",
   "execution_count": 2,
   "metadata": {
    "dotnet_interactive": {
     "language": "csharp"
    },
    "polyglot_notebook": {
     "kernelName": "csharp"
    },
    "vscode": {
     "languageId": "polyglot-notebook"
    }
   },
   "outputs": [
    {
     "name": "stdout",
     "output_type": "stream",
     "text": [
      "Животное Оствинд, возраст 10 лет.\n",
      "Лошадь Оствинд бегает по полю. Окрас: Вороная\n",
      "\n",
      "Животное Тод, возраст 2 лет.\n",
      "Лиса Тод бегает по лесу. Окрас: Рыжая\n",
      "\n",
      "Животное Уголёк, возраст 4 лет.\n",
      "Кролик Уголёк прыгает по полянке. Окрас: Чёрный\n",
      "\n",
      "Количество животных: 3\n"
     ]
    }
   ],
   "source": [
    "public class Animal \n",
    "{\n",
    "    private string _name;\n",
    "    private double _age;\n",
    "    public string Name\n",
    "    {\n",
    "        get { return _name;}\n",
    "        set { _name = value;}\n",
    "    }\n",
    "    public double Age\n",
    "    {\n",
    "        get { return _age;}\n",
    "        set\n",
    "        {\n",
    "            if (value>0)\n",
    "                _age = value;\n",
    "            else\n",
    "                throw new ArgumentOutOfRangeException(\"Возраст не может быть меньше или равен нулю.\");\n",
    "        }\n",
    "    }\n",
    "\n",
    "    public static int Count {get; private set;} = 0;\n",
    "    public Animal(string name, double age)\n",
    "    {\n",
    "        Name = name;\n",
    "        Age = age;\n",
    "        Count++;\n",
    "    }\n",
    "\n",
    "    public void generalAnimal()\n",
    "    {\n",
    "        Console.WriteLine($\"Животное {Name}, возраст {Age} лет.\");\n",
    "    }\n",
    "    public virtual void Activity()\n",
    "    {\n",
    "        Console.WriteLine($\"{Name} бегает.\");\n",
    "    }\n",
    "\n",
    "    public static void CountAnimal()\n",
    "    {\n",
    "        Console.WriteLine($\"Количество животных: {Count}\");\n",
    "    }\n",
    "}\n",
    "public class Horse : Animal\n",
    "{\n",
    "    private string _color;\n",
    "    public string Color\n",
    "    {\n",
    "        get {return _color;}\n",
    "        set {_color = value; }\n",
    "    } \n",
    "    public Horse(string name, double age, string color) : base(name, age)\n",
    "    {\n",
    "        Color = color;\n",
    "    }\n",
    "    public override void Activity()\n",
    "    {\n",
    "        Console.WriteLine($\"Лошадь {Name} бегает по полю. Окрас: {Color}\\n\");\n",
    "    }\n",
    "}\n",
    "public class Fox : Animal\n",
    "{\n",
    "    private string _color;\n",
    "    public string Color\n",
    "    {\n",
    "        get {return _color;}\n",
    "        set {_color = value; }\n",
    "    } \n",
    "    public Fox(string name, double age, string color) : base(name, age)\n",
    "    {\n",
    "        Color = color;\n",
    "    }\n",
    "    public override void Activity()\n",
    "    {\n",
    "        Console.WriteLine($\"Лиса {Name} бегает по лесу. Окрас: {Color}\\n\");\n",
    "    }\n",
    "}\n",
    "public class Rabbit : Animal\n",
    "{\n",
    "    private string _color;\n",
    "    public string Color\n",
    "    {\n",
    "        get {return _color;}\n",
    "        set {_color = value; }\n",
    "    } \n",
    "    public Rabbit(string name, double age, string color) : base(name, age)\n",
    "    {\n",
    "        Color = color;\n",
    "    }\n",
    "    public override void Activity()\n",
    "    {\n",
    "        Console.WriteLine($\"Кролик {Name} прыгает по полянке. Окрас: {Color}\\n\");\n",
    "    }\n",
    "}\n",
    "\n",
    "Horse myHorse = new Horse(\"Оствинд\", 10, \"Вороная\");\n",
    "Fox myFox = new Fox(\"Тод\", 2, \"Рыжая\");\n",
    "Rabbit myRabbit = new Rabbit(\"Уголёк\", 4, \"Чёрный\");\n",
    "myHorse.generalAnimal();\n",
    "myHorse.Activity();\n",
    "myFox.generalAnimal();\n",
    "myFox.Activity();\n",
    "myRabbit.generalAnimal();\n",
    "myRabbit.Activity();\n",
    "Animal.CountAnimal();"
   ]
  }
 ],
 "metadata": {
  "kernelspec": {
   "display_name": ".NET (C#)",
   "language": "C#",
   "name": ".net-csharp"
  },
  "language_info": {
   "name": "python"
  },
  "polyglot_notebook": {
   "kernelInfo": {
    "defaultKernelName": "csharp",
    "items": [
     {
      "aliases": [],
      "name": "csharp"
     }
    ]
   }
  }
 },
 "nbformat": 4,
 "nbformat_minor": 2
}
