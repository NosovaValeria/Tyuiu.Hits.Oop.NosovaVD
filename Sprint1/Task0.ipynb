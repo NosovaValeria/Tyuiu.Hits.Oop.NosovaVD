{
 "cells": [
  {
   "cell_type": "markdown",
   "metadata": {},
   "source": [
    "<h5 style=\"color:Red\">Задание:</h5>\n",
    "Ниже в блоке по примеру создайте базовый класс Animal и реализуйте структуру класса, атрибуты, методы, модификаторы доступа, статические члены, конструкторы, интерфейсы и состояние класса. "
   ]
  },
  {
   "cell_type": "code",
   "execution_count": 16,
   "metadata": {
    "dotnet_interactive": {
     "language": "csharp"
    },
    "polyglot_notebook": {
     "kernelName": "csharp"
    },
    "vscode": {
     "languageId": "polyglot-notebook"
    }
   },
   "outputs": [
    {
     "name": "stdout",
     "output_type": "stream",
     "text": [
      "Животное подает голос.\n",
      "Животное весит 4 кг.\n",
      "Пушок кушает.\n",
      "Ему 5 лет.\n",
      "Цвет кота: Черный\n",
      "Кот мяукает.\n",
      "Количество котов: 1\n",
      "\n",
      "Рыжик кушает.\n",
      "Ему 3 лет.\n",
      "Цвет кота: Черный\n",
      "Кот мяукает.\n",
      "Количество котов: 2\n",
      "\n"
     ]
    }
   ],
   "source": [
    "public interface IAnimalEat\n",
    "{\n",
    "    void eatAnimal();\n",
    "}\n",
    "public interface IAnimalVoice\n",
    "{\n",
    "    void Voice();\n",
    "}\n",
    "public class Animal\n",
    "{\n",
    "    public string Name {get;set;}\n",
    "    public int Age {get;set;}\n",
    "\n",
    "    private int Weight {get;set;}\n",
    "\n",
    "    protected string Color {get;set;}\n",
    "\n",
    "    public virtual void Voice()\n",
    "    {\n",
    "        Console.WriteLine(\"Животное подает голос.\");\n",
    "    }\n",
    "    public void SetWeight(int weight)\n",
    "    {\n",
    "        Console.WriteLine($\"Животное весит {weight} кг.\");\n",
    "    }\n",
    "}\n",
    "public class Cat : Animal, IAnimalEat, IAnimalVoice\n",
    "{\n",
    "    public static int Count { get; private set; }\n",
    "   \n",
    "    public Cat(string name, int age) : base()\n",
    "    {\n",
    "        Name = name;\n",
    "        Age = age;\n",
    "        Color = \"Черный\"; \n",
    "        Count++;\n",
    "    }\n",
    "    public void eatAnimal()\n",
    "    {\n",
    "        Console.WriteLine($\"{Name} кушает.\");\n",
    "    }\n",
    "    public void ageCat()\n",
    "    {\n",
    "        Console.WriteLine($\"Ему {Age} лет.\");\n",
    "    }\n",
    "    public void colorCat()\n",
    "    {\n",
    "        Console.WriteLine($\"Цвет кота: {Color}\");\n",
    "    }\n",
    "    public override void Voice()\n",
    "    {\n",
    "        Console.WriteLine(\"Кот мяукает.\");\n",
    "    }\n",
    "    public static void ShowCount()\n",
    "    {\n",
    "        Console.WriteLine($\"Количество котов: {Count}\\n\");\n",
    "    }\n",
    "}\n",
    "\n",
    "Animal myAnimal = new Animal();\n",
    "myAnimal.Voice();\n",
    "myAnimal.SetWeight(4);\n",
    "\n",
    "Cat myCat = new Cat(\"Пушок\", 5);\n",
    "myCat.eatAnimal();\n",
    "myCat.ageCat();\n",
    "myCat.colorCat();\n",
    "myCat.Voice();\n",
    "Cat.ShowCount();\n",
    "\n",
    "Cat myKitten = new Cat(\"Рыжик\", 3);\n",
    "myKitten.eatAnimal();\n",
    "myKitten.ageCat();\n",
    "myKitten.colorCat();\n",
    "myKitten.Voice();\n",
    "Cat.ShowCount();"
   ]
  }
 ],
 "metadata": {
  "kernelspec": {
   "display_name": ".NET (C#)",
   "language": "C#",
   "name": ".net-csharp"
  },
  "language_info": {
   "name": "python"
  },
  "polyglot_notebook": {
   "kernelInfo": {
    "defaultKernelName": "csharp",
    "items": [
     {
      "aliases": [],
      "name": "csharp"
     }
    ]
   }
  }
 },
 "nbformat": 4,
 "nbformat_minor": 2
}
