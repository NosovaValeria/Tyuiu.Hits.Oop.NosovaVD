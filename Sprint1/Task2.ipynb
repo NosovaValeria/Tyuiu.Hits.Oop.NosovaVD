{
 "cells": [
  {
   "cell_type": "markdown",
   "metadata": {},
   "source": [
    "<h5 style=\"color:Red\">Задание:</h5>\n",
    "Ниже в блоке по примеру создайте базовый класс Animal и производные классы (2-3 например Dog, Cat и так далее) реализуйте структуру и объявление класса, включая свойства, геттеры и сеттеры, а также статические и обычными атрибуты и метода класса с реализацией взаимодействия между объектами."
   ]
  },
  {
   "cell_type": "code",
   "execution_count": 5,
   "metadata": {
    "dotnet_interactive": {
     "language": "csharp"
    },
    "polyglot_notebook": {
     "kernelName": "csharp"
    },
    "vscode": {
     "languageId": "polyglot-notebook"
    }
   },
   "outputs": [
    {
     "name": "stdout",
     "output_type": "stream",
     "text": [
      "Животное зовут Пинки. Ему уже 1 лет.\n",
      "Белка Пинки скачет по деревьям. Она прыгает на высоту 1 м.\n",
      "Животное зовут Фелиция. Ему уже 1 лет.\n",
      "Белка Фелиция скачет по деревьям. Она прыгает на высоту 3 м.\n",
      "Белка Пинки встретила белку Фелиция в лесу\n",
      "\n",
      "Животное зовут Тод. Ему уже 2 лет.\n",
      "Енот Тод бегает по лесу. Окрас: черный\n",
      "\n",
      "Животное зовут Бэмби. Ему уже 5 лет.\n",
      "Олень Бэмби бегает по поляне. У него много пятнышек.\n",
      "\n",
      "Количество животных: 4\n"
     ]
    }
   ],
   "source": [
    "public class Animal \n",
    "{\n",
    "    private string _name;\n",
    "    private double _age;\n",
    "    public string Name\n",
    "    {\n",
    "        get { return _name;}\n",
    "        set { \n",
    "            if (!value.Any(char.IsDigit))\n",
    "                _name = value;\n",
    "            else \n",
    "                throw new ArgumentOutOfRangeException(\"Имя не может содержать цифры\");\n",
    "        }\n",
    "    }\n",
    "    public double Age\n",
    "    {\n",
    "        get { return _age;}\n",
    "        set\n",
    "        {\n",
    "            if (value>0)\n",
    "                _age = value;\n",
    "            else\n",
    "                throw new ArgumentOutOfRangeException(\"Возраст не может быть меньше или равен нулю.\");\n",
    "        }\n",
    "    }\n",
    "\n",
    "    public static int Count {get; private set;} = 0;\n",
    "    public Animal(string name, double age)\n",
    "    {\n",
    "        Name = name;\n",
    "        Age = age;\n",
    "        Count++;\n",
    "    }\n",
    "\n",
    "    public void generalAnimal()\n",
    "    {\n",
    "        Console.WriteLine($\"Животное зовут {Name}. Ему уже {Age} лет.\");\n",
    "    }\n",
    "    public virtual void Activity()\n",
    "    {\n",
    "        Console.WriteLine($\"{Name} живет в лесу.\");\n",
    "    }\n",
    "\n",
    "    public static void CountAnimal()\n",
    "    {\n",
    "        Console.WriteLine($\"Количество животных: {Count}\");\n",
    "    }\n",
    "}\n",
    "public class Squirrel : Animal\n",
    "{\n",
    "    private string _height;\n",
    "    public string Height\n",
    "    {\n",
    "        get {return _height;}\n",
    "        set {_height = value; }\n",
    "    } \n",
    "    public Squirrel(string name, double age, string height) : base(name, age)\n",
    "    {\n",
    "        Height = height;\n",
    "    }\n",
    "    public override void Activity()\n",
    "    {\n",
    "        Console.WriteLine($\"Белка {Name} скачет по деревьям. Она прыгает на высоту {Height} м.\");\n",
    "    }\n",
    "    public void Met(Squirrel otherSquirrel)\n",
    "    {\n",
    "        Console.WriteLine($\"Белка {Name} встретила белку {otherSquirrel.Name} в лесу\\n\");\n",
    "    }\n",
    "}\n",
    "\n",
    "public class Raccoon : Animal\n",
    "{\n",
    "    private string _color;\n",
    "    public string Color\n",
    "    {\n",
    "        get {return _color;}\n",
    "        set {_color = value; }\n",
    "    } \n",
    "    public Raccoon(string name, double age, string color) : base(name, age)\n",
    "    {\n",
    "        Color = color;\n",
    "    }\n",
    "    public override void Activity()\n",
    "    {\n",
    "        Console.WriteLine($\"Енот {Name} бегает по лесу. Окрас: {Color}\\n\");\n",
    "    }\n",
    "}\n",
    "\n",
    "public class Deer : Animal\n",
    "{\n",
    "    private string _spots;\n",
    "    public string Spots\n",
    "    {\n",
    "        get {return _spots;}\n",
    "        set {_spots = value; }\n",
    "    } \n",
    "    public Deer(string name, double age, string spots) : base(name, age)\n",
    "    {\n",
    "        Spots = spots;\n",
    "    }\n",
    "    public override void Activity()\n",
    "    {\n",
    "        Console.WriteLine($\"Олень {Name} бегает по поляне. У него {Spots} пятнышек.\\n\");\n",
    "    }\n",
    "}\n",
    "\n",
    "Squirrel mySquirrel = new Squirrel(\"Пинки\", 1, \"1\");\n",
    "Squirrel myFeliciya = new Squirrel(\"Фелиция\", 1, \"3\");\n",
    "Raccoon myRaccoon = new Raccoon(\"Тод\", 2, \"черный\");\n",
    "Deer myDeer = new Deer(\"Бэмби\", 5, \"много\");\n",
    "mySquirrel.generalAnimal();\n",
    "mySquirrel.Activity();\n",
    "myFeliciya.generalAnimal();\n",
    "myFeliciya.Activity();\n",
    "mySquirrel.Met(myFeliciya);\n",
    "myRaccoon.generalAnimal();\n",
    "myRaccoon.Activity();\n",
    "myDeer.generalAnimal();\n",
    "myDeer.Activity();\n",
    "Animal.CountAnimal();"
   ]
  }
 ],
 "metadata": {
  "kernelspec": {
   "display_name": ".NET (C#)",
   "language": "C#",
   "name": ".net-csharp"
  },
  "language_info": {
   "name": "python"
  },
  "polyglot_notebook": {
   "kernelInfo": {
    "defaultKernelName": "csharp",
    "items": [
     {
      "aliases": [],
      "name": "csharp"
     }
    ]
   }
  }
 },
 "nbformat": 4,
 "nbformat_minor": 2
}
